{
  "nbformat": 4,
  "nbformat_minor": 0,
  "metadata": {
    "colab": {
      "provenance": []
    },
    "kernelspec": {
      "name": "python3",
      "display_name": "Python 3"
    },
    "language_info": {
      "name": "python"
    }
  },
  "cells": [
    {
      "cell_type": "code",
      "execution_count": 2,
      "metadata": {
        "colab": {
          "base_uri": "https://localhost:8080/"
        },
        "id": "Rw8yertVi4uS",
        "outputId": "a42e062c-7070-4eab-9f90-e05ba0d0b0c0"
      },
      "outputs": [
        {
          "output_type": "stream",
          "name": "stdout",
          "text": [
            "   Demand  Price\n",
            "0      35   4500\n",
            "1      45   4250\n",
            "2      55   3850\n",
            "3      65   3500\n",
            "4      75   3250\n",
            "5      70   3800\n",
            "6      80   3400\n",
            "7      85   3200\n",
            "8      80   3450\n",
            "9      85   3150\n"
          ]
        }
      ],
      "source": [
        "\"\"\"\n",
        "Price Elasticity: It refers to the degree of responsiveness of demand for a\n",
        "product to a change in price. Simply it means that for a product\n",
        "availability change the effective increase or decrease is price elasticity.\n",
        "\"\"\"\n",
        "import pandas as pd\n",
        "import numpy as np\n",
        "import matplotlib.pyplot as plt\n",
        "\n",
        "data = pd.DataFrame({\"Demand\" : [35, 45, 55, 65, 75, 70, 80, 85, 80, 85],\n",
        "                     \"Price\" : [4500, 4250, 3850, 3500, 3250, 3800, 3400, 3200, 3450, 3150]})\n",
        "print(data)"
      ]
    },
    {
      "cell_type": "code",
      "source": [
        "\"\"\"\n",
        "We are going to create three different columns which will indicate the changes in price, demand\n",
        "price elasticity.\n",
        "\"\"\"\n",
        "data[\"Percentage Change in Demand\"] = data[\"Demand\"].pct_change()\n",
        "data[\"Percentage Change in Price\"] = data[\"Price\"].pct_change()\n",
        "print(data)"
      ],
      "metadata": {
        "colab": {
          "base_uri": "https://localhost:8080/"
        },
        "id": "vxI2aRiWl97q",
        "outputId": "bc49a910-b946-4c94-dab0-8c03633a95ff"
      },
      "execution_count": 4,
      "outputs": [
        {
          "output_type": "stream",
          "name": "stdout",
          "text": [
            "   Demand  Price  Percentage Change in Demand  Percentage Chnage in Price  \\\n",
            "0      35   4500                          NaN                         NaN   \n",
            "1      45   4250                     0.285714                   -0.055556   \n",
            "2      55   3850                     0.222222                   -0.094118   \n",
            "3      65   3500                     0.181818                   -0.090909   \n",
            "4      75   3250                     0.153846                   -0.071429   \n",
            "5      70   3800                    -0.066667                    0.169231   \n",
            "6      80   3400                     0.142857                   -0.105263   \n",
            "7      85   3200                     0.062500                   -0.058824   \n",
            "8      80   3450                    -0.058824                    0.078125   \n",
            "9      85   3150                     0.062500                   -0.086957   \n",
            "\n",
            "   Percentage Change in Price  \n",
            "0                         NaN  \n",
            "1                   -0.055556  \n",
            "2                   -0.094118  \n",
            "3                   -0.090909  \n",
            "4                   -0.071429  \n",
            "5                    0.169231  \n",
            "6                   -0.105263  \n",
            "7                   -0.058824  \n",
            "8                    0.078125  \n",
            "9                   -0.086957  \n"
          ]
        }
      ]
    },
    {
      "cell_type": "code",
      "source": [
        "data[\"Price Elasticity\"] = abs(data[\"Percentage Change in Demand\"]) / abs(data[\"Percentage Change in Price\"])\n",
        "print(data)"
      ],
      "metadata": {
        "colab": {
          "base_uri": "https://localhost:8080/"
        },
        "id": "VmD4lI2snO1r",
        "outputId": "844ab88e-1311-48d3-eb64-89c9b8706741"
      },
      "execution_count": 6,
      "outputs": [
        {
          "output_type": "stream",
          "name": "stdout",
          "text": [
            "   Demand  Price  Percentage Change in Demand  Percentage Chnage in Price  \\\n",
            "0      35   4500                          NaN                         NaN   \n",
            "1      45   4250                     0.285714                   -0.055556   \n",
            "2      55   3850                     0.222222                   -0.094118   \n",
            "3      65   3500                     0.181818                   -0.090909   \n",
            "4      75   3250                     0.153846                   -0.071429   \n",
            "5      70   3800                    -0.066667                    0.169231   \n",
            "6      80   3400                     0.142857                   -0.105263   \n",
            "7      85   3200                     0.062500                   -0.058824   \n",
            "8      80   3450                    -0.058824                    0.078125   \n",
            "9      85   3150                     0.062500                   -0.086957   \n",
            "\n",
            "   Percentage Change in Price  Price Elasticity  \n",
            "0                         NaN               NaN  \n",
            "1                   -0.055556          5.142857  \n",
            "2                   -0.094118          2.361111  \n",
            "3                   -0.090909          2.000000  \n",
            "4                   -0.071429          2.153846  \n",
            "5                    0.169231          0.393939  \n",
            "6                   -0.105263          1.357143  \n",
            "7                   -0.058824          1.062500  \n",
            "8                    0.078125          0.752941  \n",
            "9                   -0.086957          0.718750  \n"
          ]
        }
      ]
    },
    {
      "cell_type": "code",
      "source": [
        "\"\"\"\n",
        "How to check if a word is actually being in the english dictionary\n",
        "\"\"\"\n",
        "!pip install pyspellchecker"
      ],
      "metadata": {
        "colab": {
          "base_uri": "https://localhost:8080/"
        },
        "id": "bW6EPXgloNBz",
        "outputId": "83503990-5c88-4c8a-b644-03dd5e223e3e"
      },
      "execution_count": 7,
      "outputs": [
        {
          "output_type": "stream",
          "name": "stdout",
          "text": [
            "Collecting pyspellchecker\n",
            "  Downloading pyspellchecker-0.7.2-py3-none-any.whl (3.4 MB)\n",
            "\u001b[?25l     \u001b[90m━━━━━━━━━━━━━━━━━━━━━━━━━━━━━━━━━━━━━━━━\u001b[0m \u001b[32m0.0/3.4 MB\u001b[0m \u001b[31m?\u001b[0m eta \u001b[36m-:--:--\u001b[0m\r\u001b[2K     \u001b[91m━━━━━━━━━━━━━━━━━━━━━━━━━━━━━━━━━━━━━━━\u001b[0m\u001b[91m╸\u001b[0m \u001b[32m3.4/3.4 MB\u001b[0m \u001b[31m116.1 MB/s\u001b[0m eta \u001b[36m0:00:01\u001b[0m\r\u001b[2K     \u001b[90m━━━━━━━━━━━━━━━━━━━━━━━━━━━━━━━━━━━━━━━━\u001b[0m \u001b[32m3.4/3.4 MB\u001b[0m \u001b[31m70.8 MB/s\u001b[0m eta \u001b[36m0:00:00\u001b[0m\n",
            "\u001b[?25hInstalling collected packages: pyspellchecker\n",
            "Successfully installed pyspellchecker-0.7.2\n"
          ]
        }
      ]
    },
    {
      "cell_type": "code",
      "source": [
        "from spellchecker import SpellChecker\n",
        "correct = SpellChecker()\n",
        "\n",
        "word = input(\"Enter a word: \")\n",
        "if word in correct:\n",
        "  print(\"Corrent \" + word)\n",
        "else:\n",
        "  correct_word = correct.correction(word)\n",
        "  print(\"Correct Spelling is: \", correct_word)"
      ],
      "metadata": {
        "colab": {
          "base_uri": "https://localhost:8080/"
        },
        "id": "_SwbScLxo9zX",
        "outputId": "616bc5ba-58a8-4c60-f088-26ad2a8e1303"
      },
      "execution_count": 14,
      "outputs": [
        {
          "output_type": "stream",
          "name": "stdout",
          "text": [
            "Enter a word: abusib\n",
            "Correct Spelling is:  abuse\n"
          ]
        }
      ]
    },
    {
      "cell_type": "code",
      "source": [
        "!pip install PyQRCode\n",
        "!pip install pypng"
      ],
      "metadata": {
        "colab": {
          "base_uri": "https://localhost:8080/"
        },
        "id": "F2e0K26MrqqS",
        "outputId": "50cc066b-3d1f-4f63-a8aa-de8afa9aadb0"
      },
      "execution_count": 15,
      "outputs": [
        {
          "output_type": "stream",
          "name": "stdout",
          "text": [
            "Collecting PyQRCode\n",
            "  Downloading PyQRCode-1.2.1.zip (41 kB)\n",
            "\u001b[?25l     \u001b[90m━━━━━━━━━━━━━━━━━━━━━━━━━━━━━━━━━━━━━━━━\u001b[0m \u001b[32m0.0/41.9 kB\u001b[0m \u001b[31m?\u001b[0m eta \u001b[36m-:--:--\u001b[0m\r\u001b[2K     \u001b[90m━━━━━━━━━━━━━━━━━━━━━━━━━━━━━━━━━━━━━━━━\u001b[0m \u001b[32m41.9/41.9 kB\u001b[0m \u001b[31m4.4 MB/s\u001b[0m eta \u001b[36m0:00:00\u001b[0m\n",
            "\u001b[?25h  Preparing metadata (setup.py) ... \u001b[?25l\u001b[?25hdone\n",
            "Building wheels for collected packages: PyQRCode\n",
            "  Building wheel for PyQRCode (setup.py) ... \u001b[?25l\u001b[?25hdone\n",
            "  Created wheel for PyQRCode: filename=PyQRCode-1.2.1-py3-none-any.whl size=36228 sha256=cc556cb5f5288138a34891af87830c0f51d1ac5fc04418cdd914a7d7a8e233ac\n",
            "  Stored in directory: /root/.cache/pip/wheels/34/2d/20/082874e49a32cdcc87ebaf99dd0099fb7774ef30f010dfb6f2\n",
            "Successfully built PyQRCode\n",
            "Installing collected packages: PyQRCode\n",
            "Successfully installed PyQRCode-1.2.1\n",
            "Collecting pypng\n",
            "  Downloading pypng-0.20220715.0-py3-none-any.whl (58 kB)\n",
            "\u001b[2K     \u001b[90m━━━━━━━━━━━━━━━━━━━━━━━━━━━━━━━━━━━━━━━━\u001b[0m \u001b[32m58.1/58.1 kB\u001b[0m \u001b[31m7.7 MB/s\u001b[0m eta \u001b[36m0:00:00\u001b[0m\n",
            "\u001b[?25hInstalling collected packages: pypng\n",
            "Successfully installed pypng-0.20220715.0\n"
          ]
        }
      ]
    },
    {
      "cell_type": "code",
      "source": [
        "import pyqrcode\n",
        "import png\n",
        "link = \"https://mail.google.com/mail/u/0/#inbox\"\n",
        "qr_code = pyqrcode.create(link)\n",
        "qr_code.png(\"Google Email Link\", scale = 5)"
      ],
      "metadata": {
        "id": "U0jNjyFer5fX"
      },
      "execution_count": 19,
      "outputs": []
    },
    {
      "cell_type": "code",
      "source": [
        "!pip install phonenumbers"
      ],
      "metadata": {
        "colab": {
          "base_uri": "https://localhost:8080/"
        },
        "id": "ttIhKf3CsoYu",
        "outputId": "00160f6e-9670-4ff6-c152-1402117fe388"
      },
      "execution_count": 17,
      "outputs": [
        {
          "output_type": "stream",
          "name": "stdout",
          "text": [
            "Collecting phonenumbers\n",
            "  Downloading phonenumbers-8.13.15-py2.py3-none-any.whl (2.6 MB)\n",
            "\u001b[?25l     \u001b[90m━━━━━━━━━━━━━━━━━━━━━━━━━━━━━━━━━━━━━━━━\u001b[0m \u001b[32m0.0/2.6 MB\u001b[0m \u001b[31m?\u001b[0m eta \u001b[36m-:--:--\u001b[0m\r\u001b[2K     \u001b[91m━━━━━━━━━━━━━━━━━━━━━━━━━━━━━━━━━━━━━━━\u001b[0m\u001b[91m╸\u001b[0m \u001b[32m2.6/2.6 MB\u001b[0m \u001b[31m96.6 MB/s\u001b[0m eta \u001b[36m0:00:01\u001b[0m\r\u001b[2K     \u001b[90m━━━━━━━━━━━━━━━━━━━━━━━━━━━━━━━━━━━━━━━━\u001b[0m \u001b[32m2.6/2.6 MB\u001b[0m \u001b[31m60.7 MB/s\u001b[0m eta \u001b[36m0:00:00\u001b[0m\n",
            "\u001b[?25hInstalling collected packages: phonenumbers\n",
            "Successfully installed phonenumbers-8.13.15\n"
          ]
        }
      ]
    },
    {
      "cell_type": "code",
      "source": [
        "import phonenumbers as ph\n",
        "from phonenumbers import carrier\n",
        "from phonenumbers import geocoder\n",
        "from phonenumbers import timezone\n",
        "\n",
        "number = \"+8801403695680\"\n",
        "number = ph.parse(number)\n",
        "print(timezone.time_zones_for_number(number))\n",
        "print(carrier.name_for_number(number, \"en\"))\n",
        "print(geocoder.description_for_number(number, \"en\"))"
      ],
      "metadata": {
        "colab": {
          "base_uri": "https://localhost:8080/"
        },
        "id": "tsoA9RSqtVmq",
        "outputId": "7637a75e-b9ba-4fed-aef6-22cd4af8c1ea"
      },
      "execution_count": 18,
      "outputs": [
        {
          "output_type": "stream",
          "name": "stdout",
          "text": [
            "('Asia/Dhaka',)\n",
            "Banglalink\n",
            "Bangladesh\n"
          ]
        }
      ]
    },
    {
      "cell_type": "code",
      "source": [
        "\"\"\"\n",
        "Calculating the Body Mass Index of any person\n",
        "\"\"\"\n",
        "height = float(input(\"Enter your height in centimeters: \"))\n",
        "weight = float(input(\"Enter your weight in Kg: \"))\n",
        "height_1 = height / 100\n",
        "\n",
        "bmi = weight / (height_1 * height_1)\n",
        "\n",
        "print(\"Your BMI Index is: \", bmi)\n",
        "\n",
        "\"\"\"\n",
        "Pseudocode:\n",
        "there will be positive value of BMI > 0\n",
        "if bmi > 0 && bmi <= 16\n",
        "you are underweight\n",
        "if bmi > 16 && bmi <= 18.5\n",
        "you are just underweight\n",
        "if bmi <= 25\n",
        "you are healthy\n",
        "if bmi <= 30\n",
        "you are overweight\n",
        "if bmi >30\n",
        "you are very overweight\n",
        "\"\"\"\n",
        "if(bmi > 0):\n",
        "  if(bmi < 16):\n",
        "    print(\"You are underweight.\")\n",
        "  elif(bmi <= 18.5):\n",
        "    print(\"You are just underweight.\")\n",
        "  elif(bmi <= 25):\n",
        "    print(\"You are healthy.\")\n",
        "  elif(bmi <= 30):\n",
        "    print(\"You are slightly overweight.\")\n",
        "  else:\n",
        "    print(\"You are seriously overweight.\")\n",
        "else:(\"Enter valid details\")"
      ],
      "metadata": {
        "colab": {
          "base_uri": "https://localhost:8080/"
        },
        "id": "_iI-6mgbuuPR",
        "outputId": "9b7b7098-672b-4457-bf28-ee7e34e178d8"
      },
      "execution_count": 22,
      "outputs": [
        {
          "output_type": "stream",
          "name": "stdout",
          "text": [
            "Enter your height in centimeters: 178\n",
            "Enter your weight in Kg: 82.5\n",
            "Your BMI Index is:  26.038378992551444\n",
            "You are slightly overweight.\n"
          ]
        }
      ]
    },
    {
      "cell_type": "code",
      "source": [
        "\"\"\"\n",
        "Rock Paper Scissors\n",
        "rock = 1\n",
        "paper = 2\n",
        "scissors = 3\n",
        "computer (1 player)\n",
        "person (1 player)\n",
        "\"\"\"\n",
        "import random\n",
        "\n",
        "choices = [\"Rock\", \"Paper\", \"Scissors\"]\n",
        "\n",
        "computer = random.choice(choices)\n",
        "\n",
        "player = False\n",
        "\n",
        "cpu_score = 0\n",
        "player_score = 0\n",
        "\n",
        "while True:\n",
        "  player = input(\"Make choice of any of them, Rock, Paper or scissors: \").capitalize()\n",
        "  if player == computer:\n",
        "    print(\"Tie\")\n",
        "  elif player == \"Rock\":\n",
        "    if computer == \"Paper\":\n",
        "      print(\"You Lose!\", computer, \"covers\", player)\n",
        "      cpu_score += 1\n",
        "    else:\n",
        "      print(\"You lose!\", player, \"smashes\", computer)\n",
        "      player_score += 1\n",
        "  elif player == \"Paper\":\n",
        "    if computer == \"Scissors\":\n",
        "      print(\"You Lose!\", computer, \"cuts\", player)\n",
        "      cpu_score += 1\n",
        "    else:\n",
        "      print(\"You lose!\", player, \"smashes\", computer)\n",
        "      player_score += 1\n",
        "  elif player == \"Scissors\":\n",
        "    if computer == \"Rock\":\n",
        "      print(\"You Lose!\", computer, \"cuts\", player)\n",
        "      cpu_score += 1\n",
        "    else:\n",
        "      print(\"You lose!\", player, \"smashes\", computer)\n",
        "      player_score += 1\n",
        "  elif player == \"end\":\n",
        "    print(\"Final Score: \")\n",
        "    print(f\"CPU:{cpu_score}\")\n",
        "    print(f\"Player:{player_score}\")\n",
        "    break"
      ],
      "metadata": {
        "colab": {
          "base_uri": "https://localhost:8080/",
          "height": 607
        },
        "id": "65DB7jxsy_0o",
        "outputId": "d27e8e4b-91ea-4988-f29d-75c0acfa9ed0"
      },
      "execution_count": 1,
      "outputs": [
        {
          "name": "stdout",
          "output_type": "stream",
          "text": [
            "Make choice of any of them, Rock, Paper or scissors: Scissors\n",
            "Tie\n",
            "Make choice of any of them, Rock, Paper or scissors: Paper\n",
            "You Lose! Scissors cuts Paper\n",
            "Make choice of any of them, Rock, Paper or scissors: Rock\n",
            "You lose! Rock smashes Scissors\n",
            "Make choice of any of them, Rock, Paper or scissors: Rock\n",
            "You lose! Rock smashes Scissors\n",
            "Make choice of any of them, Rock, Paper or scissors: Scissors\n",
            "Tie\n",
            "Make choice of any of them, Rock, Paper or scissors: end\n",
            "Make choice of any of them, Rock, Paper or scissors: end\n"
          ]
        },
        {
          "output_type": "error",
          "ename": "KeyboardInterrupt",
          "evalue": "ignored",
          "traceback": [
            "\u001b[0;31m---------------------------------------------------------------------------\u001b[0m",
            "\u001b[0;31mKeyboardInterrupt\u001b[0m                         Traceback (most recent call last)",
            "\u001b[0;32m<ipython-input-1-d91132ea8acf>\u001b[0m in \u001b[0;36m<cell line: 20>\u001b[0;34m()\u001b[0m\n\u001b[1;32m     19\u001b[0m \u001b[0;34m\u001b[0m\u001b[0m\n\u001b[1;32m     20\u001b[0m \u001b[0;32mwhile\u001b[0m \u001b[0;32mTrue\u001b[0m\u001b[0;34m:\u001b[0m\u001b[0;34m\u001b[0m\u001b[0;34m\u001b[0m\u001b[0m\n\u001b[0;32m---> 21\u001b[0;31m   \u001b[0mplayer\u001b[0m \u001b[0;34m=\u001b[0m \u001b[0minput\u001b[0m\u001b[0;34m(\u001b[0m\u001b[0;34m\"Make choice of any of them, Rock, Paper or scissors: \"\u001b[0m\u001b[0;34m)\u001b[0m\u001b[0;34m.\u001b[0m\u001b[0mcapitalize\u001b[0m\u001b[0;34m(\u001b[0m\u001b[0;34m)\u001b[0m\u001b[0;34m\u001b[0m\u001b[0;34m\u001b[0m\u001b[0m\n\u001b[0m\u001b[1;32m     22\u001b[0m \u001b[0;34m\u001b[0m\u001b[0m\n\u001b[1;32m     23\u001b[0m   \u001b[0;32mif\u001b[0m \u001b[0mplayer\u001b[0m \u001b[0;34m==\u001b[0m \u001b[0mcomputer\u001b[0m\u001b[0;34m:\u001b[0m\u001b[0;34m\u001b[0m\u001b[0;34m\u001b[0m\u001b[0m\n",
            "\u001b[0;32m/usr/local/lib/python3.10/dist-packages/ipykernel/kernelbase.py\u001b[0m in \u001b[0;36mraw_input\u001b[0;34m(self, prompt)\u001b[0m\n\u001b[1;32m    849\u001b[0m                 \u001b[0;34m\"raw_input was called, but this frontend does not support input requests.\"\u001b[0m\u001b[0;34m\u001b[0m\u001b[0;34m\u001b[0m\u001b[0m\n\u001b[1;32m    850\u001b[0m             )\n\u001b[0;32m--> 851\u001b[0;31m         return self._input_request(str(prompt),\n\u001b[0m\u001b[1;32m    852\u001b[0m             \u001b[0mself\u001b[0m\u001b[0;34m.\u001b[0m\u001b[0m_parent_ident\u001b[0m\u001b[0;34m,\u001b[0m\u001b[0;34m\u001b[0m\u001b[0;34m\u001b[0m\u001b[0m\n\u001b[1;32m    853\u001b[0m             \u001b[0mself\u001b[0m\u001b[0;34m.\u001b[0m\u001b[0m_parent_header\u001b[0m\u001b[0;34m,\u001b[0m\u001b[0;34m\u001b[0m\u001b[0;34m\u001b[0m\u001b[0m\n",
            "\u001b[0;32m/usr/local/lib/python3.10/dist-packages/ipykernel/kernelbase.py\u001b[0m in \u001b[0;36m_input_request\u001b[0;34m(self, prompt, ident, parent, password)\u001b[0m\n\u001b[1;32m    893\u001b[0m             \u001b[0;32mexcept\u001b[0m \u001b[0mKeyboardInterrupt\u001b[0m\u001b[0;34m:\u001b[0m\u001b[0;34m\u001b[0m\u001b[0;34m\u001b[0m\u001b[0m\n\u001b[1;32m    894\u001b[0m                 \u001b[0;31m# re-raise KeyboardInterrupt, to truncate traceback\u001b[0m\u001b[0;34m\u001b[0m\u001b[0;34m\u001b[0m\u001b[0m\n\u001b[0;32m--> 895\u001b[0;31m                 \u001b[0;32mraise\u001b[0m \u001b[0mKeyboardInterrupt\u001b[0m\u001b[0;34m(\u001b[0m\u001b[0;34m\"Interrupted by user\"\u001b[0m\u001b[0;34m)\u001b[0m \u001b[0;32mfrom\u001b[0m \u001b[0;32mNone\u001b[0m\u001b[0;34m\u001b[0m\u001b[0;34m\u001b[0m\u001b[0m\n\u001b[0m\u001b[1;32m    896\u001b[0m             \u001b[0;32mexcept\u001b[0m \u001b[0mException\u001b[0m \u001b[0;32mas\u001b[0m \u001b[0me\u001b[0m\u001b[0;34m:\u001b[0m\u001b[0;34m\u001b[0m\u001b[0;34m\u001b[0m\u001b[0m\n\u001b[1;32m    897\u001b[0m                 \u001b[0mself\u001b[0m\u001b[0;34m.\u001b[0m\u001b[0mlog\u001b[0m\u001b[0;34m.\u001b[0m\u001b[0mwarning\u001b[0m\u001b[0;34m(\u001b[0m\u001b[0;34m\"Invalid Message:\"\u001b[0m\u001b[0;34m,\u001b[0m \u001b[0mexc_info\u001b[0m\u001b[0;34m=\u001b[0m\u001b[0;32mTrue\u001b[0m\u001b[0;34m)\u001b[0m\u001b[0;34m\u001b[0m\u001b[0;34m\u001b[0m\u001b[0m\n",
            "\u001b[0;31mKeyboardInterrupt\u001b[0m: Interrupted by user"
          ]
        }
      ]
    },
    {
      "cell_type": "code",
      "source": [
        "!pip install forex_python"
      ],
      "metadata": {
        "colab": {
          "base_uri": "https://localhost:8080/"
        },
        "id": "DhHMwVFu_ZrZ",
        "outputId": "0174b591-45e2-4798-ffa5-73341fa871d1"
      },
      "execution_count": 2,
      "outputs": [
        {
          "output_type": "stream",
          "name": "stdout",
          "text": [
            "Collecting forex_python\n",
            "  Downloading forex_python-1.8-py3-none-any.whl (8.2 kB)\n",
            "Requirement already satisfied: requests in /usr/local/lib/python3.10/dist-packages (from forex_python) (2.27.1)\n",
            "Collecting simplejson (from forex_python)\n",
            "  Downloading simplejson-3.19.1-cp310-cp310-manylinux_2_5_x86_64.manylinux1_x86_64.manylinux_2_17_x86_64.manylinux2014_x86_64.whl (137 kB)\n",
            "\u001b[2K     \u001b[90m━━━━━━━━━━━━━━━━━━━━━━━━━━━━━━━━━━━━━━\u001b[0m \u001b[32m137.9/137.9 kB\u001b[0m \u001b[31m11.2 MB/s\u001b[0m eta \u001b[36m0:00:00\u001b[0m\n",
            "\u001b[?25hRequirement already satisfied: urllib3<1.27,>=1.21.1 in /usr/local/lib/python3.10/dist-packages (from requests->forex_python) (1.26.16)\n",
            "Requirement already satisfied: certifi>=2017.4.17 in /usr/local/lib/python3.10/dist-packages (from requests->forex_python) (2023.5.7)\n",
            "Requirement already satisfied: charset-normalizer~=2.0.0 in /usr/local/lib/python3.10/dist-packages (from requests->forex_python) (2.0.12)\n",
            "Requirement already satisfied: idna<4,>=2.5 in /usr/local/lib/python3.10/dist-packages (from requests->forex_python) (3.4)\n",
            "Installing collected packages: simplejson, forex_python\n",
            "Successfully installed forex_python-1.8 simplejson-3.19.1\n"
          ]
        }
      ]
    },
    {
      "cell_type": "code",
      "source": [
        "from forex_python.converter import CurrencyRates\n",
        "c = CurrencyRates()\n",
        "amount = float(input(\"Enter the amount: \"))\n",
        "from_currency = input(\"From Currency: \").upper()\n",
        "to_currency = input(\"To Currency: \").upper()\n",
        "print(from_currency, \" to \", to_currency, amount)\n",
        "result = c.convert(from_currency, to_currency, amount)\n",
        "print(result)"
      ],
      "metadata": {
        "colab": {
          "base_uri": "https://localhost:8080/"
        },
        "id": "lbWYCoTj_9_R",
        "outputId": "7f241455-c3ad-4645-dabc-7491b17cedb3"
      },
      "execution_count": 10,
      "outputs": [
        {
          "output_type": "stream",
          "name": "stdout",
          "text": [
            "Enter the amount: 25000\n",
            "From Currency: JPY\n",
            "To Currency: USD\n",
            "JPY  to  USD 25000.0\n",
            "179.3796592119276\n"
          ]
        }
      ]
    },
    {
      "cell_type": "code",
      "source": [
        "def missing_numbers(n):\n",
        "  numbers = set(n)\n",
        "  length = len(n)\n",
        "  output = []\n",
        "\n",
        "  for i in range(4, n[-1]):\n",
        "    if i not in numbers:\n",
        "      output.append(i)\n",
        "  return output\n",
        "\n",
        "list_1 = [4, 5, 6, 7, 9, 11, 13, 14, 15, 16, 17, 20, 21, 22]\n",
        "print(missing_numbers(list_1))"
      ],
      "metadata": {
        "colab": {
          "base_uri": "https://localhost:8080/"
        },
        "id": "vDcMueGiBx8L",
        "outputId": "7ae1190d-cf51-4059-dccc-3edb8e80bfc7"
      },
      "execution_count": 6,
      "outputs": [
        {
          "output_type": "stream",
          "name": "stdout",
          "text": [
            "[8, 10, 12, 18, 19]\n"
          ]
        }
      ]
    },
    {
      "cell_type": "code",
      "source": [
        "!pip install yfinance"
      ],
      "metadata": {
        "colab": {
          "base_uri": "https://localhost:8080/"
        },
        "id": "OX-WOrv1EC8U",
        "outputId": "2c0b90d2-6d0b-42ae-c9ed-9703fc52c3c6"
      },
      "execution_count": 7,
      "outputs": [
        {
          "output_type": "stream",
          "name": "stdout",
          "text": [
            "Requirement already satisfied: yfinance in /usr/local/lib/python3.10/dist-packages (0.2.21)\n",
            "Requirement already satisfied: pandas>=1.3.0 in /usr/local/lib/python3.10/dist-packages (from yfinance) (1.5.3)\n",
            "Requirement already satisfied: numpy>=1.16.5 in /usr/local/lib/python3.10/dist-packages (from yfinance) (1.22.4)\n",
            "Requirement already satisfied: requests>=2.26 in /usr/local/lib/python3.10/dist-packages (from yfinance) (2.27.1)\n",
            "Requirement already satisfied: multitasking>=0.0.7 in /usr/local/lib/python3.10/dist-packages (from yfinance) (0.0.11)\n",
            "Requirement already satisfied: lxml>=4.9.1 in /usr/local/lib/python3.10/dist-packages (from yfinance) (4.9.2)\n",
            "Requirement already satisfied: appdirs>=1.4.4 in /usr/local/lib/python3.10/dist-packages (from yfinance) (1.4.4)\n",
            "Requirement already satisfied: pytz>=2022.5 in /usr/local/lib/python3.10/dist-packages (from yfinance) (2022.7.1)\n",
            "Requirement already satisfied: frozendict>=2.3.4 in /usr/local/lib/python3.10/dist-packages (from yfinance) (2.3.8)\n",
            "Requirement already satisfied: beautifulsoup4>=4.11.1 in /usr/local/lib/python3.10/dist-packages (from yfinance) (4.11.2)\n",
            "Requirement already satisfied: html5lib>=1.1 in /usr/local/lib/python3.10/dist-packages (from yfinance) (1.1)\n",
            "Requirement already satisfied: soupsieve>1.2 in /usr/local/lib/python3.10/dist-packages (from beautifulsoup4>=4.11.1->yfinance) (2.4.1)\n",
            "Requirement already satisfied: six>=1.9 in /usr/local/lib/python3.10/dist-packages (from html5lib>=1.1->yfinance) (1.16.0)\n",
            "Requirement already satisfied: webencodings in /usr/local/lib/python3.10/dist-packages (from html5lib>=1.1->yfinance) (0.5.1)\n",
            "Requirement already satisfied: python-dateutil>=2.8.1 in /usr/local/lib/python3.10/dist-packages (from pandas>=1.3.0->yfinance) (2.8.2)\n",
            "Requirement already satisfied: urllib3<1.27,>=1.21.1 in /usr/local/lib/python3.10/dist-packages (from requests>=2.26->yfinance) (1.26.16)\n",
            "Requirement already satisfied: certifi>=2017.4.17 in /usr/local/lib/python3.10/dist-packages (from requests>=2.26->yfinance) (2023.5.7)\n",
            "Requirement already satisfied: charset-normalizer~=2.0.0 in /usr/local/lib/python3.10/dist-packages (from requests>=2.26->yfinance) (2.0.12)\n",
            "Requirement already satisfied: idna<4,>=2.5 in /usr/local/lib/python3.10/dist-packages (from requests>=2.26->yfinance) (3.4)\n"
          ]
        }
      ]
    },
    {
      "cell_type": "code",
      "source": [
        "import pandas as pd\n",
        "import yfinance as yf\n",
        "import datetime\n",
        "from datetime import date, timedelta\n",
        "today = date.today()\n",
        "\n",
        "d1 = today.strftime(\"%Y-%m-%d\")\n",
        "end_date = d1\n",
        "d2 = date.today() - timedelta(days = 360)\n",
        "d2 = d2.strftime(\"%Y-%m-%d\")\n",
        "start_date = d2\n",
        "\n",
        "data = yf.download(input(\"Enter the Stock Ticker Symbol: \"),\n",
        "                   start = start_date,\n",
        "                   end = end_date,\n",
        "                   progress = False)\n",
        "print(data.head())"
      ],
      "metadata": {
        "colab": {
          "base_uri": "https://localhost:8080/"
        },
        "id": "qvHcuBHtEHs5",
        "outputId": "3c76a554-0f93-4555-a58d-fbc62c2cd278"
      },
      "execution_count": 9,
      "outputs": [
        {
          "output_type": "stream",
          "name": "stdout",
          "text": [
            "Enter the Stock Ticker Symbol: NFLX\n",
            "                  Open        High         Low       Close   Adj Close  \\\n",
            "Date                                                                     \n",
            "2022-07-12  177.330002  179.779999  173.419998  174.449997  174.449997   \n",
            "2022-07-13  170.500000  179.179993  169.699997  176.559998  176.559998   \n",
            "2022-07-14  175.559998  177.520004  171.820007  174.779999  174.779999   \n",
            "2022-07-15  175.580002  189.220001  174.559998  189.110001  189.110001   \n",
            "2022-07-18  192.500000  199.669998  189.800003  190.919998  190.919998   \n",
            "\n",
            "              Volume  \n",
            "Date                  \n",
            "2022-07-12   6845300  \n",
            "2022-07-13  12734400  \n",
            "2022-07-14   9039500  \n",
            "2022-07-15  16319100  \n",
            "2022-07-18  16322800  \n"
          ]
        }
      ]
    },
    {
      "cell_type": "code",
      "source": [],
      "metadata": {
        "id": "1Job8IQ1GUZe"
      },
      "execution_count": null,
      "outputs": []
    }
  ]
}