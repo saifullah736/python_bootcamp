{
  "nbformat": 4,
  "nbformat_minor": 0,
  "metadata": {
    "colab": {
      "provenance": []
    },
    "kernelspec": {
      "name": "python3",
      "display_name": "Python 3"
    },
    "language_info": {
      "name": "python"
    }
  },
  "cells": [
    {
      "cell_type": "code",
      "execution_count": null,
      "metadata": {
        "colab": {
          "base_uri": "https://localhost:8080/"
        },
        "id": "6FRGnQgJkMuu",
        "outputId": "f6e6eece-7ee8-4058-9a29-b1664a5946e9"
      },
      "outputs": [
        {
          "output_type": "stream",
          "name": "stdout",
          "text": [
            "\n",
            "    Python is difficult.\n",
            "    But i tried by best to learn it.\n",
            "    Thanks to Sir\n",
            "    \n"
          ]
        }
      ],
      "source": [
        "\"\"\"\n",
        "Create an output function of comments.\n",
        "It has to be a multi line comment. It needs to include at least\n",
        "three sentences. Assign the whole sentence as a variable and output it\n",
        "\"\"\"\n",
        "def output_comment():\n",
        "    comment = \"\"\"\n",
        "    Python is difficult.\n",
        "    But i tried by best to learn it.\n",
        "    Thanks to Sir\n",
        "    \"\"\"\n",
        "    print(comment)\n",
        "\n",
        "output_comment()"
      ]
    },
    {
      "cell_type": "code",
      "source": [
        "\"\"\"\n",
        "Create a function. In the function assign x_1 variable as 'tasty' and\n",
        "x_2 variable as 'mouthwatering'. consider x_1 as the global variable and\n",
        "x_2 as the local variable and print out from the function. The print function\n",
        "will be 'Pizza is ' with the variables\n",
        "\"\"\"\n",
        "def pizza_description():\n",
        "    global x_1\n",
        "    x_1 = 'tasty'\n",
        "    x_2 = 'mouthwatering'\n",
        "    print(\"Pizza is\", x_1, x_2)\n",
        "\n",
        "pizza_description()\n",
        "\n"
      ],
      "metadata": {
        "colab": {
          "base_uri": "https://localhost:8080/"
        },
        "id": "LlwIgHOnkhpY",
        "outputId": "00c9ff62-e8b0-4443-d8e7-5b34eef239a6"
      },
      "execution_count": null,
      "outputs": [
        {
          "output_type": "stream",
          "name": "stdout",
          "text": [
            "Pizza is tasty mouthwatering\n"
          ]
        }
      ]
    },
    {
      "cell_type": "code",
      "source": [
        "\"\"\"\n",
        "create two variables under any name. create manual user input for them.\n",
        "under conditional arrangement consider each as either integer type or float type\n",
        "of entry and then add them. In the else condition put wrong entry if entry is a\n",
        "string type.\n",
        "\"\"\"\n",
        "var1 = input(\"Enter the first variable: \")\n",
        "var2 = input(\"Enter the second variable: \")\n",
        "\n",
        "if var1.isdigit() and var2.isdigit():\n",
        "    var1 = int(var1)\n",
        "    var2 = int(var2)\n",
        "    result = var1 + var2\n",
        "    print(\"Sum:\", result)\n",
        "elif \".\" in var1 and \".\" in var2:\n",
        "    var1 = float(var1)\n",
        "    var2 = float(var2)\n",
        "    result = var1 + var2\n",
        "    print(\"Sum:\", result)\n",
        "else:\n",
        "    print(\"Wrong entry. Please enter numbers (integers or floats).\")\n",
        "\n",
        "\n"
      ],
      "metadata": {
        "colab": {
          "base_uri": "https://localhost:8080/"
        },
        "id": "habCvOjelHqA",
        "outputId": "b29b9c93-9196-467d-9995-d1d6598d32b8"
      },
      "execution_count": null,
      "outputs": [
        {
          "output_type": "stream",
          "name": "stdout",
          "text": [
            "Enter the first variable: 26\n",
            "Enter the second variable: 12\n",
            "Sum: 38\n"
          ]
        }
      ]
    },
    {
      "cell_type": "code",
      "source": [
        "\"\"\"\n",
        "Create any string, assign it into a variable. COnsider that the string needs to\n",
        "have a total of 13 characters in it. Using them\n",
        "a) Print the last 4 letters\n",
        "b) Print the first 9 letters\n",
        "c) Print the characters in the opposite direction from 7 to 13\n",
        "\"\"\"\n",
        "string = \" Hi,I am a Nsuer!\"\n",
        "\n",
        "# a)\n",
        "last_four = string[-4:]\n",
        "print(\"Last 4 letters:\", last_four)\n",
        "\n",
        "# b)\n",
        "first_nine = string[:9]\n",
        "print(\"First 9 letters:\", first_nine)\n",
        "\n",
        "# c)\n",
        "opposite_direction = string[6:13][::-1]\n",
        "print(\"Characters in opposite direction from 7 to 13:\", opposite_direction)\n",
        "\n"
      ],
      "metadata": {
        "colab": {
          "base_uri": "https://localhost:8080/"
        },
        "id": "J2sqMR6VmHuo",
        "outputId": "b4a7d5e7-3e83-4380-b881-5c8db09cf01c"
      },
      "execution_count": null,
      "outputs": [
        {
          "output_type": "stream",
          "name": "stdout",
          "text": [
            "Last 4 letters: uer!\n",
            "First 9 letters:  Hi,I am \n",
            "Characters in opposite direction from 7 to 13: sN a ma\n"
          ]
        }
      ]
    },
    {
      "cell_type": "code",
      "source": [
        "\"\"\"\n",
        "Create any string, The string needs to have at least 7 characters in it.\n",
        "Perform the following tasks\n",
        "a) Convert all the letters into uppercase\n",
        "b) Convert all the letters into lowercase\n",
        "c) Remove the first letter of the string with 'L'\n",
        "d) Make the string into two words and seperate them each into two items\n",
        "e) Create two separate strings and assign them into a sperate string while maintaining a gap between two strings\"\n",
        "\"\"\"\n",
        "string = \"I'm Nsuer\"\n",
        "uppercase_string = string.upper()\n",
        "print(\"Uppercase String:\", uppercase_string)\n",
        "\n",
        "lowercase_string = string.lower()\n",
        "print(\"Lowercase String:\", lowercase_string)\n",
        "\n",
        "modified_string = 'L' + string[1:]\n",
        "print(\"Modified String:\", modified_string)\n",
        "\n",
        "split_string = [string[:len(string)//2], string[len(string)//2:]]\n",
        "print(\"Split String into Two Words:\", split_string)\n",
        "\n",
        "string1 = string[:len(string)//2]\n",
        "string2 = string[len(string)//2:]\n",
        "separated_strings = string1 + \" \" + string2\n",
        "print(\"Separated Strings:\", separated_strings)\n"
      ],
      "metadata": {
        "colab": {
          "base_uri": "https://localhost:8080/"
        },
        "id": "4aG4iiRUlXP3",
        "outputId": "c8c04772-3cec-449c-dc65-de33be1b044a"
      },
      "execution_count": null,
      "outputs": [
        {
          "output_type": "stream",
          "name": "stdout",
          "text": [
            "Uppercase String: I'M NSUER\n",
            "Lowercase String: i'm nsuer\n",
            "Modified String: L'm Nsuer\n",
            "Split String into Two Words: [\"I'm \", 'Nsuer']\n",
            "Separated Strings: I'm  Nsuer\n"
          ]
        }
      ]
    },
    {
      "cell_type": "code",
      "source": [
        "\"\"\"\n",
        "Create a small program for total bought out items from grocery. A total of 3 items are bought at minimum.\n",
        "Lets consider\n",
        "a_1 = total number of item a_1\n",
        "item_name_a_1 = name of item a_1\n",
        "price_a_1 = price of item a_1\n",
        "total_pay_a_1 = a_1 * price_a_1\n",
        "sum = sum of all items\n",
        "print three my_order_a_1, my_order_a_2, my_order_a_3 by the .format method by the following line\n",
        "print \"I bought item_name_a_1 of a_1 numbers where each priced at price_a_1 for a total of total_pay_a_1 price\"\n",
        "print \"I totally paid a total of this amount of money sum for all of my items\n",
        "\"\"\"\n"
      ],
      "metadata": {
        "colab": {
          "base_uri": "https://localhost:8080/",
          "height": 87
        },
        "id": "W_rldkJGoUrv",
        "outputId": "6b8ddb59-74ec-4301-b47e-5c0587ede6ab"
      },
      "execution_count": null,
      "outputs": [
        {
          "output_type": "execute_result",
          "data": {
            "text/plain": [
              "'\\nCreate a small program for total bought out items from grocery\\nLets consider \\na_1 = total number of item a_1 \\nitem_name_a_1 = name of item a_1\\nprice_a_1 = price of item a_1\\ntotal_pay_a_1 = a_1 * price_a_1\\nsum = sum of all items\\nprint three my_order_a_1, my_order_a_2, my_order_a_3 by the .format method by the following line\\nprint \"I bought item_name_a_1 of a_1 numbers where each priced at price_a_1 for a total of total_pay_a_1 price\"\\nprint \"I totally paid a total of this amount of money sum for all of my items\\n'"
            ],
            "application/vnd.google.colaboratory.intrinsic+json": {
              "type": "string"
            }
          },
          "metadata": {},
          "execution_count": 9
        }
      ]
    },
    {
      "cell_type": "code",
      "source": [
        "\"\"\"\n",
        "Assign two variables by input. The variables strictly has to be integers.\n",
        "Create a program where\n",
        "if var_1 > var_2 divide them\n",
        "if var_1 < var_2 find their reminder\n",
        "if var_1 == var_2 multiply them and\n",
        "\"\"\""
      ],
      "metadata": {
        "colab": {
          "base_uri": "https://localhost:8080/",
          "height": 53
        },
        "id": "oNgT2ATRq0wS",
        "outputId": "56833dd7-6492-4fb9-bd4f-dd6067f3fced"
      },
      "execution_count": null,
      "outputs": [
        {
          "output_type": "execute_result",
          "data": {
            "text/plain": [
              "'\\nAssign two variables by input. The variables strictly has to be integers. \\nCreate a program where \\nif var_1 > var_2 divide them \\nif var_1 < var_2 find their reminder \\nif var_1 == var_2 multiply them and \\n'"
            ],
            "application/vnd.google.colaboratory.intrinsic+json": {
              "type": "string"
            }
          },
          "metadata": {},
          "execution_count": 11
        }
      ]
    },
    {
      "cell_type": "code",
      "source": [
        "\"\"\"\n",
        "Create a List. In the list assign stationery items named paper, copies, pen, eraser, pencil, sharpener, toner, gums, candy etc.\n",
        "a) Test if Pizza is in the list or not by loop\n",
        "b) exchange the last item of the list with 'Printter'\n",
        "c) exchange paper and copies with just 'notebooks'\n",
        "d) Position pens as the 2nd item of the list\n",
        "\"\"\"\n",
        "stationery = [\"paper\", \"copies\", \"pen\", \"eraser\", \"pencil\", \"sharpener\", \"toner\", \"gums\", \"candy\"]\n",
        "\n",
        "is_pizza_present = False\n",
        "for item in stationery:\n",
        "    if item.lower() == \"pizza\":\n",
        "        is_pizza_present = True\n",
        "        break\n",
        "\n",
        "if is_pizza_present:\n",
        "    print(\"Pizza is in the list.\")\n",
        "else:\n",
        "    print(\"Pizza is not in the list.\")\n",
        "\n",
        "stationery[-1] = \"Printer\"\n",
        "print(\"List after exchanging the last item:\", stationery)\n",
        "\n",
        "stationery[0:2] = [\"notebooks\"]\n",
        "print(\"List after exchanging 'paper' and 'copies':\", stationery)\n",
        "\n",
        "pen_index = stationery.index(\"pen\")\n",
        "stationery.pop(pen_index)\n",
        "stationery.insert(1, \"pen\")\n",
        "print(\"List after positioning 'pen' as the 2nd item:\", stationery)\n"
      ],
      "metadata": {
        "colab": {
          "base_uri": "https://localhost:8080/"
        },
        "id": "gMvdNuSBrV_t",
        "outputId": "6417263e-aa19-41ff-c8d6-23cc9be85fa9"
      },
      "execution_count": null,
      "outputs": [
        {
          "output_type": "stream",
          "name": "stdout",
          "text": [
            "Pizza is not in the list.\n",
            "List after exchanging the last item: ['paper', 'copies', 'pen', 'eraser', 'pencil', 'sharpener', 'toner', 'gums', 'Printer']\n",
            "List after exchanging 'paper' and 'copies': ['notebooks', 'pen', 'eraser', 'pencil', 'sharpener', 'toner', 'gums', 'Printer']\n",
            "List after positioning 'pen' as the 2nd item: ['notebooks', 'pen', 'eraser', 'pencil', 'sharpener', 'toner', 'gums', 'Printer']\n"
          ]
        }
      ]
    },
    {
      "cell_type": "code",
      "source": [
        "\"\"\"\n",
        "Create a new list. Assign calculator, color pencils, whitener, parser as other items of the list\n",
        "a) Add just calculator to the previous list\n",
        "b) Add the complete list with previous list in a new list\n",
        "c) Delete the third item from the list\n",
        "d) Delete the last item from the list using pop method.\n",
        "e) Delete the third last item from the list using pop method.\n",
        "\"\"\"\n",
        "items = [\"calculator\", \"color pencils\", \"whitener\", \"parser\"]\n",
        "\n",
        "items.append(\"calculator\")\n",
        "print(\"List after adding 'calculator':\", items)\n",
        "\n",
        "new_list = items + items[:]\n",
        "print(\"New list:\", new_list)\n",
        "\n",
        "del items[2]\n",
        "print(\"List after deleting the third item:\", items)\n",
        "\n",
        "last_item = items.pop()\n",
        "print(\"Deleted last item:\", last_item)\n",
        "print(\"List after deleting the last item:\", items)\n",
        "\n",
        "third_last_item = items.pop(-3)\n",
        "print(\"Deleted third last item:\", third_last_item)\n",
        "print(\"List after deleting the third last item:\", items)\n"
      ],
      "metadata": {
        "colab": {
          "base_uri": "https://localhost:8080/"
        },
        "id": "LCm3Ze9qtq-j",
        "outputId": "89f3622e-7c3a-4a53-b3c0-df62de84c249"
      },
      "execution_count": null,
      "outputs": [
        {
          "output_type": "stream",
          "name": "stdout",
          "text": [
            "List after adding 'calculator': ['calculator', 'color pencils', 'whitener', 'parser', 'calculator']\n",
            "New list: ['calculator', 'color pencils', 'whitener', 'parser', 'calculator', 'calculator', 'color pencils', 'whitener', 'parser', 'calculator']\n",
            "List after deleting the third item: ['calculator', 'color pencils', 'parser', 'calculator']\n",
            "Deleted last item: calculator\n",
            "List after deleting the last item: ['calculator', 'color pencils', 'parser']\n",
            "Deleted third last item: calculator\n",
            "List after deleting the third last item: ['color pencils', 'parser']\n"
          ]
        }
      ]
    },
    {
      "cell_type": "code",
      "source": [
        "\"\"\"\n",
        "In the newly created list\n",
        "a) Print using while loop all the items.\n",
        "b) Print using for loop all the items.\n",
        "c) Using list comprehension loop through the list\n",
        "d) Create an empty list and append all the items from the list which has letter 'e' in it using for loop\n",
        "\"\"\"\n",
        "new_list = [\"apple\", \"pear\", \"lichi\", \"jackfruit\", \"Mango\"]\n",
        "print(\"Printing all items using a while loop:\")\n",
        "i = 0\n",
        "while i < len(new_list):\n",
        "    print(new_list[i])\n",
        "    i += 1\n",
        "\n",
        "print(\"\\nPrinting all items using a for loop:\")\n",
        "for item in new_list:\n",
        "    print(item)\n",
        "\n",
        "print(\"\\nLooping through the list using list comprehension:\")\n",
        "new_list_upper = [item.upper() for item in new_list]\n",
        "print(new_list_upper)\n",
        "\n",
        "print(\"\\nAppending items with 'e' to a new list using a for loop:\")\n",
        "e_list = []\n",
        "for item in new_list:\n",
        "    if 'e' in item:\n",
        "        e_list.append(item)\n",
        "print(e_list)\n"
      ],
      "metadata": {
        "id": "XadkHh3Du4uK",
        "colab": {
          "base_uri": "https://localhost:8080/"
        },
        "outputId": "2d5522f7-ae42-4ec1-d98b-3722fd166727"
      },
      "execution_count": null,
      "outputs": [
        {
          "output_type": "stream",
          "name": "stdout",
          "text": [
            "Printing all items using a while loop:\n",
            "apple\n",
            "pear\n",
            "lichi\n",
            "jackfruit\n",
            "Mango\n",
            "\n",
            "Printing all items using a for loop:\n",
            "apple\n",
            "pear\n",
            "lichi\n",
            "jackfruit\n",
            "Mango\n",
            "\n",
            "Looping through the list using list comprehension:\n",
            "['APPLE', 'PEAR', 'LICHI', 'JACKFRUIT', 'MANGO']\n",
            "\n",
            "Appending items with 'e' to a new list using a for loop:\n",
            "['apple', 'pear']\n"
          ]
        }
      ]
    },
    {
      "cell_type": "code",
      "source": [
        "\"\"\"\n",
        "Create a list of numbers.\n",
        "a) Using the list of numbers sort the list in a descending order.\n",
        "b) Sort the based on the average of number closeness. Show the average number as input in the function.\n",
        "\"\"\"\n",
        "numbers = [3, 4, 9, 2, 7, 5, 1, 8, 3]\n",
        "def sort_descending(numbers):\n",
        "    sorted_numbers = sorted(numbers, reverse=True)\n",
        "    return sorted_numbers\n",
        "\n",
        "def sort_by_average(numbers, average_number):\n",
        "    sorted_numbers = sorted(numbers, key=lambda x: abs(x - average_number))\n",
        "    return sorted_numbers\n",
        "\n",
        "descending_order = sort_descending(numbers)\n",
        "print(\"Descending Order:\", descending_order)\n",
        "\n",
        "average_number = sum(numbers) / len(numbers)\n",
        "\n",
        "by_average_closeness = sort_by_average(numbers, average_number)\n",
        "print(\"Sorted by Average Closeness:\", by_average_closeness)\n",
        "\n"
      ],
      "metadata": {
        "colab": {
          "base_uri": "https://localhost:8080/"
        },
        "id": "kESzCTxLv_1y",
        "outputId": "8f2866b7-6554-4b27-f3cd-824a280a7d83"
      },
      "execution_count": null,
      "outputs": [
        {
          "output_type": "stream",
          "name": "stdout",
          "text": [
            "Descending Order: [9, 8, 7, 5, 4, 3, 3, 2, 1]\n",
            "Sorted by Average Closeness: [5, 4, 3, 3, 7, 2, 8, 1, 9]\n"
          ]
        }
      ]
    },
    {
      "cell_type": "code",
      "source": [
        "\"\"\"\n",
        "Create a dictionary. In the dictionary assign food_name, food_type, food_taste with three different values.\n",
        "a) Add a new item as food_color with a value and print the list\n",
        "b) Add a new item as food_price and print it.\n",
        "c) using the update method change the price for item 2\n",
        "\"\"\"\n",
        "food_dict = {\n",
        "    \"food_name\": \"Pasta\",\n",
        "    \"food_type\": \"Italian\",\n",
        "    \"food_taste\": \"Delicious\"\n",
        "}\n",
        "\n",
        "food_dict[\"food_color\"] = \"Red\"\n",
        "print(\"Dictionary after adding 'food_color':\", food_dict)\n",
        "\n",
        "food_dict[\"food_price\"] = 400\n",
        "print(\"Food price:\", food_dict[\"food_price\"])\n",
        "\n",
        "# c) Using the \"update\" method to change the price for item 2\n",
        "food_dict.update({\"food_price\": 450})\n",
        "print(\"Dictionary after updating the price:\", food_dict)\n"
      ],
      "metadata": {
        "colab": {
          "base_uri": "https://localhost:8080/"
        },
        "id": "8FHXUb5OxCNG",
        "outputId": "255edbea-1d1a-4e98-ee15-6af0c1ac6cd5"
      },
      "execution_count": null,
      "outputs": [
        {
          "output_type": "stream",
          "name": "stdout",
          "text": [
            "Dictionary after adding 'food_color': {'food_name': 'Pasta', 'food_type': 'Italian', 'food_taste': 'Delicious', 'food_color': 'Red'}\n",
            "Food price: 400\n",
            "Dictionary after updating the price: {'food_name': 'Pasta', 'food_type': 'Italian', 'food_taste': 'Delicious', 'food_color': 'Red', 'food_price': 450}\n"
          ]
        }
      ]
    },
    {
      "cell_type": "code",
      "source": [
        "\"\"\"\n",
        "Create program where we can calculate the area of triangle using the following formula\n",
        "s = (a+b+c)/2\n",
        "area = √(s(s-a)*(s-b)*(s-c)\n",
        "where a, b, c are the sides of triangle.\n",
        "\"\"\""
      ],
      "metadata": {
        "id": "_N9PzuxCxEYJ"
      },
      "execution_count": null,
      "outputs": []
    },
    {
      "cell_type": "code",
      "source": [
        "\"\"\"\n",
        "Create a program where we check the entered number is even or not\"\n",
        "\"\"\"\n",
        "def is_even(number):\n",
        "    if number % 2 == 0:\n",
        "        return True\n",
        "    else:\n",
        "        return False\n",
        "\n",
        "number = int(input(\"Enter a number: \"))\n",
        "\n",
        "if is_even(number):\n",
        "    print(number, \"is an even number.\")\n",
        "else:\n",
        "    print(number, \"is not an even number.\")\n"
      ],
      "metadata": {
        "colab": {
          "base_uri": "https://localhost:8080/"
        },
        "id": "QlbUMDWoy1zu",
        "outputId": "f8238ad2-c9bd-48f7-c657-37e8cd6b218a"
      },
      "execution_count": null,
      "outputs": [
        {
          "output_type": "stream",
          "name": "stdout",
          "text": [
            "Enter a number: 20\n",
            "20 is an even number.\n"
          ]
        }
      ]
    },
    {
      "cell_type": "code",
      "source": [
        "\"\"\"\n",
        "Create program to check if an entered number is a prime or not.\n",
        "\"\"\"\n",
        "def is_prime(number):\n",
        "    if number <= 1:\n",
        "        return False\n",
        "\n",
        "    for i in range(2, int(number**0.5) + 1):\n",
        "        if number % i == 0:\n",
        "            return False\n",
        "\n",
        "    return True\n",
        "number = int(input(\"Enter a number: \"))\n",
        "if is_prime(number):\n",
        "    print(number, \"is a prime number.\")\n",
        "else:\n",
        "    print(number, \"is not a prime number.\")\n"
      ],
      "metadata": {
        "colab": {
          "base_uri": "https://localhost:8080/"
        },
        "id": "OIHGckf2y3XA",
        "outputId": "581e5951-0187-4cba-e429-c1dfe56b190d"
      },
      "execution_count": null,
      "outputs": [
        {
          "output_type": "stream",
          "name": "stdout",
          "text": [
            "Enter a number: 1\n",
            "1 is not a prime number.\n"
          ]
        }
      ]
    },
    {
      "cell_type": "code",
      "source": [
        "\"\"\"\n",
        "Create a simple program of calculator.\n",
        "\"\"\"\n",
        "def add(number1, number2):\n",
        "    return number1 + number2\n",
        "\n",
        "def subtract(number1, number2):\n",
        "    return number1 - number2\n",
        "\n",
        "def multiply(number1, number2):\n",
        "    return number1 * number2\n",
        "\n",
        "def divide(number1, number2):\n",
        "    return number1 / number2\n",
        "\n",
        "def main():\n",
        "    operation = input(\"Select operation(add, subtract, multiply, divide): \")\n",
        "    number1 = int(input(\"Enter first number: \"))\n",
        "    number2 = int(input(\"Enter second number: \"))\n",
        "\n",
        "    if operation == \"add\":\n",
        "        print(number1, \"+\", number2, \"=\", add(number1, number2))\n",
        "    elif operation == \"subtract\":\n",
        "        print(number1, \"-\", number2, \"=\", subtract(number1, number2))\n",
        "    elif operation == \"multiply\":\n",
        "        print(number1, \"*\", number2, \"=\", multiply(number1, number2))\n",
        "    elif operation == \"divide\":\n",
        "        print(number1, \"/\", number2, \"=\", divide(number1, number2))\n",
        "    else:\n",
        "        print(\"Invalid operation\")\n",
        "\n",
        "if __name__ == \"__main__\":\n",
        "    main()"
      ],
      "metadata": {
        "colab": {
          "base_uri": "https://localhost:8080/"
        },
        "id": "lDVOLuxPzKnH",
        "outputId": "eeb92da1-eb61-41eb-eb73-0fbd8245ac60"
      },
      "execution_count": null,
      "outputs": [
        {
          "output_type": "stream",
          "name": "stdout",
          "text": [
            "Select operation(add, subtract, multiply, divide): add\n",
            "Enter first number: 12\n",
            "Enter second number: 43\n",
            "12 + 43 = 55\n"
          ]
        }
      ]
    },
    {
      "cell_type": "code",
      "source": [
        "\"\"\"\n",
        "Using a function create python program for which we the final accumulated amount through compount interest\n",
        "\"\"\"\n",
        "def compound_interest(principal, rate, time):\n",
        "\n",
        "    amount = principal * (1 + rate/100) ** time\n",
        "    return amount\n",
        "\n",
        "\n",
        "principal = float(input(\"Enter the principal amount: \"))\n",
        "rate = float(input(\"Enter the interest rate (in percentage): \"))\n",
        "time = float(input(\"Enter the time period (in years): \"))\n",
        "\n",
        "final_amount = compound_interest(principal, rate, time)\n",
        "print(\"The final accumulated amount is:\", final_amount)\n"
      ],
      "metadata": {
        "colab": {
          "base_uri": "https://localhost:8080/"
        },
        "id": "7REigdgJzkto",
        "outputId": "7f003d47-43df-492c-84ac-608f6771f62d"
      },
      "execution_count": null,
      "outputs": [
        {
          "output_type": "stream",
          "name": "stdout",
          "text": [
            "Enter the principal amount: 2000\n",
            "Enter the interest rate (in percentage): .08\n",
            "Enter the time period (in years): 5\n",
            "The final accumulated amount is: 2008.0128102440958\n"
          ]
        }
      ]
    }
  ]
}