{
  "nbformat": 4,
  "nbformat_minor": 0,
  "metadata": {
    "colab": {
      "provenance": []
    },
    "kernelspec": {
      "name": "python3",
      "display_name": "Python 3"
    },
    "language_info": {
      "name": "python"
    }
  },
  "cells": [
    {
      "cell_type": "code",
      "execution_count": 1,
      "metadata": {
        "colab": {
          "base_uri": "https://localhost:8080/"
        },
        "id": "m3fUsJCOM9KI",
        "outputId": "a7684852-3af4-46ee-bb45-419a4a651fd6"
      },
      "outputs": [
        {
          "output_type": "stream",
          "name": "stdout",
          "text": [
            "True\n"
          ]
        }
      ],
      "source": [
        "# Boolean Operators\n",
        "a = 10 \n",
        "b = 9 \n",
        "print(a > b)"
      ]
    },
    {
      "cell_type": "code",
      "source": [
        "c = 11\n",
        "d = 12 \n",
        "print(c == d)"
      ],
      "metadata": {
        "colab": {
          "base_uri": "https://localhost:8080/"
        },
        "id": "ydxaXt6jNxzU",
        "outputId": "e93d0c34-049b-453e-e6db-606070b55575"
      },
      "execution_count": 2,
      "outputs": [
        {
          "output_type": "stream",
          "name": "stdout",
          "text": [
            "False\n"
          ]
        }
      ]
    },
    {
      "cell_type": "code",
      "source": [
        "e = \"he is a good boy\"\n",
        "f = \"he is a good boy\"\n",
        "print(e == f)"
      ],
      "metadata": {
        "colab": {
          "base_uri": "https://localhost:8080/"
        },
        "id": "qbMDt-dlOAXg",
        "outputId": "762d4b70-4d7e-450d-f0d7-8284c62fed4d"
      },
      "execution_count": 5,
      "outputs": [
        {
          "output_type": "stream",
          "name": "stdout",
          "text": [
            "True\n"
          ]
        }
      ]
    },
    {
      "cell_type": "code",
      "source": [
        "x = input(\"Enter a number: \")\n",
        "y = input(\"Enter another number: \")\n",
        "\n",
        "if x > y: \n",
        "  print(\"X is greater than Y.\")\n",
        "elif x < y: \n",
        "  print(\"Y is greater than X.\")\n",
        "elif x == y: \n",
        "  print(\"x is equal to Y\")\n",
        "else:\n",
        "  print(\"Wrong Input.\")"
      ],
      "metadata": {
        "colab": {
          "base_uri": "https://localhost:8080/"
        },
        "id": "CGgDBx6SOtgp",
        "outputId": "7499cfdc-ae2d-4e1a-d1c2-493aa077ede5"
      },
      "execution_count": 5,
      "outputs": [
        {
          "output_type": "stream",
          "name": "stdout",
          "text": [
            "Enter a number: 23\n",
            "Enter another number: 23\n",
            "x is equal to Y\n"
          ]
        }
      ]
    },
    {
      "cell_type": "code",
      "source": [
        "alphabet = [\"f\", \"d\", \"a\", \"b\", \"k\", \"e\"]\n",
        "alphabet.sort(reverse = True)\n",
        "print(alphabet)"
      ],
      "metadata": {
        "colab": {
          "base_uri": "https://localhost:8080/"
        },
        "id": "Xqyimy4YSWZA",
        "outputId": "326ac043-b8ec-4dc1-af0a-43a1a4e23996"
      },
      "execution_count": 6,
      "outputs": [
        {
          "output_type": "stream",
          "name": "stdout",
          "text": [
            "['k', 'f', 'e', 'd', 'b', 'a']\n"
          ]
        }
      ]
    },
    {
      "cell_type": "code",
      "source": [
        "a_1 = 0\n",
        "a_2 = \"hello\"\n",
        "a_3 = True \n",
        "print(bool(a_1))\n",
        "print(bool(a_2))\n",
        "print(bool(a_3))"
      ],
      "metadata": {
        "colab": {
          "base_uri": "https://localhost:8080/"
        },
        "id": "UG7eShzVUbZ4",
        "outputId": "937ae461-8df7-44cb-c0c8-e00b3a8b4a9b"
      },
      "execution_count": 10,
      "outputs": [
        {
          "output_type": "stream",
          "name": "stdout",
          "text": [
            "False\n",
            "True\n",
            "True\n"
          ]
        }
      ]
    },
    {
      "cell_type": "code",
      "source": [
        "print(type(alphabet))"
      ],
      "metadata": {
        "colab": {
          "base_uri": "https://localhost:8080/"
        },
        "id": "SBso59VZVafa",
        "outputId": "9d879e20-554f-4ba3-9fff-e30e20bee82e"
      },
      "execution_count": 11,
      "outputs": [
        {
          "output_type": "stream",
          "name": "stdout",
          "text": [
            "<class 'list'>\n"
          ]
        }
      ]
    },
    {
      "cell_type": "code",
      "source": [
        "#Object oriented programming \n",
        "class my_class():\n",
        "  def _init_(self):\n",
        "    return 23\n",
        "\n",
        "my_obj = my_class()\n",
        "print(bool(my_obj))\n",
        "\n",
        "# Over here the job of the function is to give a value and test if there is a completion of the function"
      ],
      "metadata": {
        "colab": {
          "base_uri": "https://localhost:8080/"
        },
        "id": "649QpJyCV1eb",
        "outputId": "d0b6d8c9-1c39-4d8b-fcc3-ae4fd706d855"
      },
      "execution_count": 21,
      "outputs": [
        {
          "output_type": "stream",
          "name": "stdout",
          "text": [
            "True\n"
          ]
        }
      ]
    },
    {
      "cell_type": "code",
      "source": [
        "# Boolean with function\n",
        "a = 5\n",
        "b = 6.5\n",
        "\n",
        "def any_function():\n",
        "  return a + b\n",
        "print(any_function())"
      ],
      "metadata": {
        "colab": {
          "base_uri": "https://localhost:8080/"
        },
        "id": "p380EGNDZqbB",
        "outputId": "0345aaf0-f969-48a2-f76d-7dafe5e98da6"
      },
      "execution_count": 22,
      "outputs": [
        {
          "output_type": "stream",
          "name": "stdout",
          "text": [
            "11.5\n"
          ]
        }
      ]
    },
    {
      "cell_type": "code",
      "source": [
        "a = 5.2\n",
        "\n",
        "def any_function():\n",
        "  return a\n",
        "\n",
        "if any_function():\n",
        "  print(\"yes\")\n",
        "else: \n",
        "  print(\"no\")"
      ],
      "metadata": {
        "colab": {
          "base_uri": "https://localhost:8080/"
        },
        "id": "cnnHZlq3baMB",
        "outputId": "40ed4e9a-91f1-4d3f-f062-37d5132907ce"
      },
      "execution_count": 30,
      "outputs": [
        {
          "output_type": "stream",
          "name": "stdout",
          "text": [
            "yes\n"
          ]
        }
      ]
    },
    {
      "cell_type": "code",
      "source": [
        "#Lists\n",
        "fruit_list = [\"apple\", \"orange\", \"mango\", \"Pineapple\", \"guava\", \"banana\"]\n",
        "print(type(fruit_list))"
      ],
      "metadata": {
        "colab": {
          "base_uri": "https://localhost:8080/"
        },
        "id": "0-mOCEPPeWGn",
        "outputId": "286c76ce-2367-4188-b1ef-250403e49228"
      },
      "execution_count": 31,
      "outputs": [
        {
          "output_type": "stream",
          "name": "stdout",
          "text": [
            "<class 'list'>\n"
          ]
        }
      ]
    },
    {
      "cell_type": "code",
      "source": [
        "print(len(fruit_list))"
      ],
      "metadata": {
        "colab": {
          "base_uri": "https://localhost:8080/"
        },
        "id": "CgOxmFyHfHNd",
        "outputId": "ebc44275-1b25-4371-b3af-17b373989a8a"
      },
      "execution_count": 32,
      "outputs": [
        {
          "output_type": "stream",
          "name": "stdout",
          "text": [
            "6\n"
          ]
        }
      ]
    },
    {
      "cell_type": "code",
      "source": [
        "print(fruit_list[0])"
      ],
      "metadata": {
        "colab": {
          "base_uri": "https://localhost:8080/"
        },
        "id": "PSTr8CVofVJT",
        "outputId": "302004c8-0eb7-4cb8-e56d-a5d47414b15d"
      },
      "execution_count": 33,
      "outputs": [
        {
          "output_type": "stream",
          "name": "stdout",
          "text": [
            "apple\n"
          ]
        }
      ]
    },
    {
      "cell_type": "code",
      "source": [
        "print(fruit_list[5])"
      ],
      "metadata": {
        "colab": {
          "base_uri": "https://localhost:8080/"
        },
        "id": "Sptk_Qv3fzyM",
        "outputId": "27868620-eb6b-4bf2-978a-99c26866a20d"
      },
      "execution_count": 37,
      "outputs": [
        {
          "output_type": "stream",
          "name": "stdout",
          "text": [
            "banana\n"
          ]
        }
      ]
    },
    {
      "cell_type": "code",
      "source": [
        "#Negative indexing\n",
        "print(fruit_list[-1])"
      ],
      "metadata": {
        "colab": {
          "base_uri": "https://localhost:8080/"
        },
        "id": "NTc8RlYAgDlL",
        "outputId": "0ab3f126-8d84-4158-efff-dec514d97f7b"
      },
      "execution_count": 38,
      "outputs": [
        {
          "output_type": "stream",
          "name": "stdout",
          "text": [
            "banana\n"
          ]
        }
      ]
    },
    {
      "cell_type": "code",
      "source": [
        "print(fruit_list[-6])"
      ],
      "metadata": {
        "colab": {
          "base_uri": "https://localhost:8080/"
        },
        "id": "Zs0LoZ_kg4pV",
        "outputId": "314d02fc-6959-4af6-a6b0-be8f61a4e92e"
      },
      "execution_count": 39,
      "outputs": [
        {
          "output_type": "stream",
          "name": "stdout",
          "text": [
            "apple\n"
          ]
        }
      ]
    },
    {
      "cell_type": "code",
      "source": [
        "print(fruit_list[-0])"
      ],
      "metadata": {
        "colab": {
          "base_uri": "https://localhost:8080/"
        },
        "id": "vWHsbCoEhJJ6",
        "outputId": "3638fb82-152c-4c62-8fb3-ac6dea75617b"
      },
      "execution_count": 40,
      "outputs": [
        {
          "output_type": "stream",
          "name": "stdout",
          "text": [
            "apple\n"
          ]
        }
      ]
    },
    {
      "cell_type": "code",
      "source": [
        "print(fruit_list[-6])"
      ],
      "metadata": {
        "colab": {
          "base_uri": "https://localhost:8080/"
        },
        "id": "WzVsW22ghmqG",
        "outputId": "a7b0aee9-1de3-4b34-b05a-97f3bff12adb"
      },
      "execution_count": 42,
      "outputs": [
        {
          "output_type": "stream",
          "name": "stdout",
          "text": [
            "apple\n"
          ]
        }
      ]
    },
    {
      "cell_type": "code",
      "source": [
        "# Multi Item Extraction \n",
        "# find the 3rd, 4th and 5th item\n",
        "print(fruit_list[2:5])"
      ],
      "metadata": {
        "colab": {
          "base_uri": "https://localhost:8080/"
        },
        "id": "rEjinJDchz4u",
        "outputId": "540d26ff-bcf6-4a42-9b23-37374390e3d3"
      },
      "execution_count": 43,
      "outputs": [
        {
          "output_type": "stream",
          "name": "stdout",
          "text": [
            "['mango', 'Pineapple', 'guava']\n"
          ]
        }
      ]
    },
    {
      "cell_type": "code",
      "source": [
        "# Only Specific Range\n",
        "print(fruit_list[1:])"
      ],
      "metadata": {
        "colab": {
          "base_uri": "https://localhost:8080/"
        },
        "id": "c-vOA6i8iRDg",
        "outputId": "33b00792-f17c-4456-9cbb-15bf85bc2521"
      },
      "execution_count": 46,
      "outputs": [
        {
          "output_type": "stream",
          "name": "stdout",
          "text": [
            "['orange', 'mango', 'Pineapple', 'guava', 'banana']\n"
          ]
        }
      ]
    },
    {
      "cell_type": "code",
      "source": [
        "#Adding two different lists together \n",
        "fruit_list_1 = [\"Strawberry\", \"Cherry\", \"Blackberry\", \"Avocado\"]\n",
        "fruit_list.extend(fruit_list_1)\n",
        "print(fruit_list)"
      ],
      "metadata": {
        "colab": {
          "base_uri": "https://localhost:8080/"
        },
        "id": "IYEeeGiviuu_",
        "outputId": "f16eec8f-4c00-44a2-8f10-f10890c6d586"
      },
      "execution_count": 47,
      "outputs": [
        {
          "output_type": "stream",
          "name": "stdout",
          "text": [
            "['apple', 'orange', 'mango', 'Pineapple', 'guava', 'banana', 'Strawberry', 'Cherry', 'Blackberry', 'Avocado']\n"
          ]
        }
      ]
    },
    {
      "cell_type": "code",
      "source": [
        "#Tuple \n",
        "additional = (\"Kiwi\", \"Watermelon\")\n",
        "fruit_list.extend(additional)\n",
        "print(fruit_list)"
      ],
      "metadata": {
        "colab": {
          "base_uri": "https://localhost:8080/"
        },
        "id": "djVz1Ld9kDFC",
        "outputId": "fbe0d2c5-47e6-4d50-ad48-caff9209a369"
      },
      "execution_count": 49,
      "outputs": [
        {
          "output_type": "stream",
          "name": "stdout",
          "text": [
            "['apple', 'orange', 'mango', 'Pineapple', 'guava', 'banana', 'Strawberry', 'Cherry', 'Blackberry', 'Avocado', 'Kiwi', 'Watermelon', 'Kiwi', 'Watermelon']\n"
          ]
        }
      ]
    },
    {
      "cell_type": "code",
      "source": [
        "print(fruit_list_1[0])"
      ],
      "metadata": {
        "colab": {
          "base_uri": "https://localhost:8080/"
        },
        "id": "7K02jIa9k7GR",
        "outputId": "b55e56d3-c50d-4652-bd2a-d5caceb93303"
      },
      "execution_count": 50,
      "outputs": [
        {
          "output_type": "stream",
          "name": "stdout",
          "text": [
            "Strawberry\n"
          ]
        }
      ]
    },
    {
      "cell_type": "code",
      "source": [
        "print(additional[0])"
      ],
      "metadata": {
        "colab": {
          "base_uri": "https://localhost:8080/"
        },
        "id": "uu7q-yHnlIjU",
        "outputId": "5c95ec55-8602-4fa2-c2ec-cc5f58f07b29"
      },
      "execution_count": 52,
      "outputs": [
        {
          "output_type": "stream",
          "name": "stdout",
          "text": [
            "Kiwi\n"
          ]
        }
      ]
    },
    {
      "cell_type": "code",
      "source": [
        "#remove some fruits from the dataset \n",
        "print(fruit_list.pop(-3))"
      ],
      "metadata": {
        "colab": {
          "base_uri": "https://localhost:8080/"
        },
        "id": "V4k8Z7TvlZ0L",
        "outputId": "fc9c2680-f5b9-400c-b8e7-7734f632f9ad"
      },
      "execution_count": 53,
      "outputs": [
        {
          "output_type": "stream",
          "name": "stdout",
          "text": [
            "Watermelon\n"
          ]
        }
      ]
    },
    {
      "cell_type": "code",
      "source": [
        "print(fruit_list)"
      ],
      "metadata": {
        "colab": {
          "base_uri": "https://localhost:8080/"
        },
        "id": "1yaH14pslxl9",
        "outputId": "be91c48a-5fcb-494a-e744-b1f28518f8d3"
      },
      "execution_count": 60,
      "outputs": [
        {
          "output_type": "stream",
          "name": "stdout",
          "text": [
            "['apple', 'orange', 'mango', 'Pineapple', 'guava', 'banana', 'Strawberry', 'Cherry', 'Blackberry', 'Avocado', 'Watermelon']\n"
          ]
        }
      ]
    },
    {
      "cell_type": "code",
      "source": [
        "print(fruit_list)"
      ],
      "metadata": {
        "colab": {
          "base_uri": "https://localhost:8080/"
        },
        "id": "5_j5MiYOmjpE",
        "outputId": "fa5bdb8f-5ea6-43de-f463-2a656efe63fa"
      },
      "execution_count": 61,
      "outputs": [
        {
          "output_type": "stream",
          "name": "stdout",
          "text": [
            "['apple', 'orange', 'mango', 'Pineapple', 'guava', 'banana', 'Strawberry', 'Cherry', 'Blackberry', 'Avocado', 'Watermelon']\n"
          ]
        }
      ]
    },
    {
      "cell_type": "code",
      "source": [
        "print(fruit_list)"
      ],
      "metadata": {
        "colab": {
          "base_uri": "https://localhost:8080/"
        },
        "id": "w_V_eQPtmU0b",
        "outputId": "072fa8cb-ccd6-404e-f633-40ebe0f8c68f"
      },
      "execution_count": 58,
      "outputs": [
        {
          "output_type": "stream",
          "name": "stdout",
          "text": [
            "['apple', 'orange', 'mango', 'Pineapple', 'guava', 'banana', 'Strawberry', 'Cherry', 'Blackberry', 'Avocado', 'Watermelon']\n"
          ]
        }
      ]
    },
    {
      "cell_type": "code",
      "source": [
        "print(fruit_list.append(\"kiwi\"))"
      ],
      "metadata": {
        "colab": {
          "base_uri": "https://localhost:8080/"
        },
        "id": "02yRgGGLm3IA",
        "outputId": "f6ee43ee-1f75-463d-835c-d175798f1cf8"
      },
      "execution_count": 62,
      "outputs": [
        {
          "output_type": "stream",
          "name": "stdout",
          "text": [
            "None\n"
          ]
        }
      ]
    },
    {
      "cell_type": "code",
      "source": [
        "print(fruit_list)"
      ],
      "metadata": {
        "colab": {
          "base_uri": "https://localhost:8080/"
        },
        "id": "oz4ckDPVm79S",
        "outputId": "b45cd641-170c-4b86-e82a-b44100ec1d5c"
      },
      "execution_count": 63,
      "outputs": [
        {
          "output_type": "stream",
          "name": "stdout",
          "text": [
            "['apple', 'orange', 'mango', 'Pineapple', 'guava', 'banana', 'Strawberry', 'Cherry', 'Blackberry', 'Avocado', 'Watermelon', 'kiwi']\n"
          ]
        }
      ]
    },
    {
      "cell_type": "code",
      "source": [
        "#For Loop \n",
        "for x in fruit_list:\n",
        "  print(x)"
      ],
      "metadata": {
        "colab": {
          "base_uri": "https://localhost:8080/"
        },
        "id": "wrMoEmKJnDVF",
        "outputId": "42b8c64c-ada2-4d98-cea4-2ab6fc261f17"
      },
      "execution_count": 64,
      "outputs": [
        {
          "output_type": "stream",
          "name": "stdout",
          "text": [
            "apple\n",
            "orange\n",
            "mango\n",
            "Pineapple\n",
            "guava\n",
            "banana\n",
            "Strawberry\n",
            "Cherry\n",
            "Blackberry\n",
            "Avocado\n",
            "Watermelon\n",
            "kiwi\n"
          ]
        }
      ]
    },
    {
      "cell_type": "code",
      "source": [
        "for i in range(len(fruit_list)):\n",
        "  print(fruit_list[i])"
      ],
      "metadata": {
        "colab": {
          "base_uri": "https://localhost:8080/"
        },
        "id": "oBCa4S-Aof_a",
        "outputId": "7bf2d5b7-2222-4359-dd45-30d6b5e6c756"
      },
      "execution_count": 67,
      "outputs": [
        {
          "output_type": "stream",
          "name": "stdout",
          "text": [
            "apple\n",
            "orange\n",
            "mango\n",
            "Pineapple\n",
            "guava\n",
            "banana\n",
            "Strawberry\n",
            "Cherry\n",
            "Blackberry\n",
            "Avocado\n",
            "Watermelon\n",
            "kiwi\n"
          ]
        }
      ]
    },
    {
      "cell_type": "code",
      "source": [
        "fruit_list = ['apple', 'orange', 'mango', 'Pineapple', 'guava', 'banana', 'Strawberry', 'Cherry', 'Blackberry', 'Avocado', 'Watermelon']\n",
        "z = 0\n",
        "while z < len(fruit_list):\n",
        "  print(fruit_list[z])\n",
        "  z = z + 1"
      ],
      "metadata": {
        "colab": {
          "base_uri": "https://localhost:8080/"
        },
        "id": "zQOOnE-6qJot",
        "outputId": "253f5d52-550d-4c09-f0a2-c89e2a0122c4"
      },
      "execution_count": 73,
      "outputs": [
        {
          "output_type": "stream",
          "name": "stdout",
          "text": [
            "apple\n",
            "orange\n",
            "mango\n",
            "Pineapple\n",
            "guava\n",
            "banana\n",
            "Strawberry\n",
            "Cherry\n",
            "Blackberry\n",
            "Avocado\n",
            "Watermelon\n"
          ]
        }
      ]
    },
    {
      "cell_type": "code",
      "source": [
        "[print(x) for x in fruit_list]"
      ],
      "metadata": {
        "colab": {
          "base_uri": "https://localhost:8080/"
        },
        "id": "SjAoSDdwrwVO",
        "outputId": "928a5583-1732-46f3-c72f-3b4e03e2ef9b"
      },
      "execution_count": 72,
      "outputs": [
        {
          "output_type": "stream",
          "name": "stdout",
          "text": [
            "apple\n",
            "orange\n",
            "mango\n",
            "Pineapple\n",
            "guava\n",
            "banana\n",
            "Strawberry\n",
            "Cherry\n",
            "Blackberry\n",
            "Avocado\n",
            "Watermelon\n",
            "kiwi\n"
          ]
        },
        {
          "output_type": "execute_result",
          "data": {
            "text/plain": [
              "[None, None, None, None, None, None, None, None, None, None, None, None]"
            ]
          },
          "metadata": {},
          "execution_count": 72
        }
      ]
    },
    {
      "cell_type": "code",
      "source": [
        "new_fruit = []\n",
        "\n",
        "for x in fruit_list:\n",
        "  if \"b\" in x:\n",
        "    new_fruit.append(x)\n",
        "\n",
        "print(new_fruit)"
      ],
      "metadata": {
        "colab": {
          "base_uri": "https://localhost:8080/"
        },
        "id": "n0CxgTwLtM4t",
        "outputId": "8fbf0b18-81f2-43d2-a920-3e361f91fd88"
      },
      "execution_count": 74,
      "outputs": [
        {
          "output_type": "stream",
          "name": "stdout",
          "text": [
            "['banana', 'Strawberry', 'Blackberry']\n"
          ]
        }
      ]
    }
  ]
}