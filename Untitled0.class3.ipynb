{
  "nbformat": 4,
  "nbformat_minor": 0,
  "metadata": {
    "colab": {
      "provenance": []
    },
    "kernelspec": {
      "name": "python3",
      "display_name": "Python 3"
    },
    "language_info": {
      "name": "python"
    }
  },
  "cells": [
    {
      "cell_type": "code",
      "execution_count": 1,
      "metadata": {
        "colab": {
          "base_uri": "https://localhost:8080/"
        },
        "id": "dPkXJsThT3IV",
        "outputId": "aa044ecf-7288-4da7-b2a4-5005466007d0"
      },
      "outputs": [
        {
          "output_type": "stream",
          "name": "stdout",
          "text": [
            "('apple', 'banana', 'cherry')\n"
          ]
        }
      ],
      "source": [
        "#tuples\n",
        "first_tuple = (\"apple\", \"banana\", \"cherry\")\n",
        "print(first_tuple)"
      ]
    },
    {
      "cell_type": "code",
      "source": [
        "print(len(first_tuple))"
      ],
      "metadata": {
        "colab": {
          "base_uri": "https://localhost:8080/"
        },
        "id": "EWEMKB-zWGui",
        "outputId": "2311d8b5-a21c-4b17-e994-93018c9c8a48"
      },
      "execution_count": 2,
      "outputs": [
        {
          "output_type": "stream",
          "name": "stdout",
          "text": [
            "3\n"
          ]
        }
      ]
    },
    {
      "cell_type": "code",
      "source": [
        "print(type(first_tuple))"
      ],
      "metadata": {
        "colab": {
          "base_uri": "https://localhost:8080/"
        },
        "id": "tVXum7AxWMDY",
        "outputId": "fe1f4a2f-028a-4ef2-98dc-11d9417a4c22"
      },
      "execution_count": 3,
      "outputs": [
        {
          "output_type": "stream",
          "name": "stdout",
          "text": [
            "<class 'tuple'>\n"
          ]
        }
      ]
    },
    {
      "cell_type": "code",
      "source": [
        "#Condtional statements \n",
        "\n",
        "item_1 = input(\"Please input something: \")\n",
        "\n",
        "if item_1 in first_tuple:\n",
        "  print(\"The fruit is here\")\n",
        "else: \n",
        "  print(\"The fruit is not here.\")"
      ],
      "metadata": {
        "colab": {
          "base_uri": "https://localhost:8080/"
        },
        "id": "o1iVtrv3WQix",
        "outputId": "90274a6b-0ed2-41cd-dec2-c7db049cc2e0"
      },
      "execution_count": 5,
      "outputs": [
        {
          "output_type": "stream",
          "name": "stdout",
          "text": [
            "Please input something: banana\n",
            "The fruit is here\n"
          ]
        }
      ]
    },
    {
      "cell_type": "code",
      "source": [
        "#Converting a tuple into a list \n",
        "x = (\"salad\", \"chicken fry\", \"mashed potato\", \"rice\")\n",
        "y = list(x)\n",
        "print(y[0])"
      ],
      "metadata": {
        "colab": {
          "base_uri": "https://localhost:8080/"
        },
        "id": "wzlzvhksW7aI",
        "outputId": "e223483c-a359-4405-b753-095d42f855ca"
      },
      "execution_count": 6,
      "outputs": [
        {
          "output_type": "stream",
          "name": "stdout",
          "text": [
            "salad\n"
          ]
        }
      ]
    },
    {
      "cell_type": "code",
      "source": [
        "#Addition to the tuple \n",
        "y.append(\"vegetables\")\n",
        "print(y)"
      ],
      "metadata": {
        "colab": {
          "base_uri": "https://localhost:8080/"
        },
        "id": "A91N8KMCXX4Y",
        "outputId": "690feba6-fef2-451e-c357-e49eb9a5964a"
      },
      "execution_count": 7,
      "outputs": [
        {
          "output_type": "stream",
          "name": "stdout",
          "text": [
            "['salad', 'chicken fry', 'mashed potato', 'rice', 'vegetables']\n"
          ]
        }
      ]
    },
    {
      "cell_type": "code",
      "source": [
        "y_2 = (\"deserts\", \"sweet items\")\n",
        "x += y_2\n",
        "print(x)"
      ],
      "metadata": {
        "colab": {
          "base_uri": "https://localhost:8080/"
        },
        "id": "qEGzI7KYYJfN",
        "outputId": "917ae314-56f9-4a12-e5f9-9040dff4adb7"
      },
      "execution_count": 9,
      "outputs": [
        {
          "output_type": "stream",
          "name": "stdout",
          "text": [
            "('salad', 'chicken fry', 'mashed potato', 'rice', 'deserts', 'sweet items')\n"
          ]
        }
      ]
    },
    {
      "cell_type": "code",
      "source": [
        "#Unpacking in Tuples \n",
        "\"\"\"\n",
        "A process of clearly identifying an exact object in the dataset through exact position\n",
        "\"\"\"\n",
        "(y_1, y_2, y_3, y_4, y_5, y_6) = x\n",
        "print(y_3)\n",
        "print(y_5)"
      ],
      "metadata": {
        "colab": {
          "base_uri": "https://localhost:8080/"
        },
        "id": "0XuBKaCsZToB",
        "outputId": "d69c5598-a1d4-42f0-a446-c10a19dfd2bc"
      },
      "execution_count": 10,
      "outputs": [
        {
          "output_type": "stream",
          "name": "stdout",
          "text": [
            "mashed potato\n",
            "deserts\n"
          ]
        }
      ]
    },
    {
      "cell_type": "code",
      "source": [
        "x = ['salad', 'chicken fry', 'mashed potato', 'rice', 'deserts', 'sweet items']\n",
        "(k_1, k_2, *k_3, k_4) = x\n",
        "print(k_1)\n",
        "print(k_3)"
      ],
      "metadata": {
        "colab": {
          "base_uri": "https://localhost:8080/"
        },
        "id": "69kRVECqceVR",
        "outputId": "212c8f80-f1f5-46ea-94d5-c3b4dc828241"
      },
      "execution_count": 18,
      "outputs": [
        {
          "output_type": "stream",
          "name": "stdout",
          "text": [
            "salad\n",
            "['mashed potato', 'rice', 'deserts']\n"
          ]
        }
      ]
    },
    {
      "cell_type": "code",
      "source": [
        "#Looping process\n",
        "for i in x:\n",
        "  print(x)"
      ],
      "metadata": {
        "colab": {
          "base_uri": "https://localhost:8080/"
        },
        "id": "kY6OksAidUvD",
        "outputId": "f4c75e51-50b8-4a44-b7d9-26bc7d955360"
      },
      "execution_count": 19,
      "outputs": [
        {
          "output_type": "stream",
          "name": "stdout",
          "text": [
            "['salad', 'chicken fry', 'mashed potato', 'rice', 'deserts', 'sweet items']\n",
            "['salad', 'chicken fry', 'mashed potato', 'rice', 'deserts', 'sweet items']\n",
            "['salad', 'chicken fry', 'mashed potato', 'rice', 'deserts', 'sweet items']\n",
            "['salad', 'chicken fry', 'mashed potato', 'rice', 'deserts', 'sweet items']\n",
            "['salad', 'chicken fry', 'mashed potato', 'rice', 'deserts', 'sweet items']\n",
            "['salad', 'chicken fry', 'mashed potato', 'rice', 'deserts', 'sweet items']\n"
          ]
        }
      ]
    },
    {
      "cell_type": "code",
      "source": [
        "#Looping indexing \n",
        "for m in range(len(x)):\n",
        "  print(x[m])"
      ],
      "metadata": {
        "colab": {
          "base_uri": "https://localhost:8080/"
        },
        "id": "dXiATdzwfcfY",
        "outputId": "afd32e0f-216f-4caf-e098-09b204431d11"
      },
      "execution_count": 20,
      "outputs": [
        {
          "output_type": "stream",
          "name": "stdout",
          "text": [
            "salad\n",
            "chicken fry\n",
            "mashed potato\n",
            "rice\n",
            "deserts\n",
            "sweet items\n"
          ]
        }
      ]
    },
    {
      "cell_type": "code",
      "source": [
        "i = 0\n",
        "\n",
        "while i < len(x):\n",
        "  print(x[i])\n",
        "  i += 1"
      ],
      "metadata": {
        "colab": {
          "base_uri": "https://localhost:8080/"
        },
        "id": "2KHC3hh1gh9O",
        "outputId": "325d812f-98c1-4443-ba7f-3e4b9d1dbc10"
      },
      "execution_count": 26,
      "outputs": [
        {
          "output_type": "stream",
          "name": "stdout",
          "text": [
            "salad\n",
            "chicken fry\n",
            "mashed potato\n",
            "rice\n",
            "deserts\n",
            "sweet items\n"
          ]
        }
      ]
    },
    {
      "cell_type": "code",
      "source": [
        "#Adding tuples \n",
        "tuple_1 = (\"a\", \"b\", \"c\")\n",
        "tuple_2 = (1, 2, 3)\n",
        "tuple_3 = tuple_1 + tuple_2\n",
        "print(tuple_3)"
      ],
      "metadata": {
        "colab": {
          "base_uri": "https://localhost:8080/"
        },
        "id": "h3pf4vGFfvj9",
        "outputId": "f1539770-1282-4f62-d223-03d482dfcd12"
      },
      "execution_count": 27,
      "outputs": [
        {
          "output_type": "stream",
          "name": "stdout",
          "text": [
            "('a', 'b', 'c', 1, 2, 3)\n"
          ]
        }
      ]
    },
    {
      "cell_type": "code",
      "source": [
        "#Sets\n",
        "set_1 = {'salad', 'chicken fry', 'mashed potato', 'rice', 'deserts', 'sweet items'}\n",
        "print(set_1)"
      ],
      "metadata": {
        "colab": {
          "base_uri": "https://localhost:8080/"
        },
        "id": "4q4pviqWi7Ae",
        "outputId": "6f2e1d51-e15e-4682-c5a6-157f1b317551"
      },
      "execution_count": 28,
      "outputs": [
        {
          "output_type": "stream",
          "name": "stdout",
          "text": [
            "{'mashed potato', 'rice', 'sweet items', 'deserts', 'salad', 'chicken fry'}\n"
          ]
        }
      ]
    },
    {
      "cell_type": "code",
      "source": [
        "for i in set_1:\n",
        "  print(i)"
      ],
      "metadata": {
        "colab": {
          "base_uri": "https://localhost:8080/"
        },
        "id": "3-jzcYR9jeTE",
        "outputId": "6a147548-89c9-4000-f6ad-c7fb4c5358c8"
      },
      "execution_count": 30,
      "outputs": [
        {
          "output_type": "stream",
          "name": "stdout",
          "text": [
            "mashed potato\n",
            "rice\n",
            "sweet items\n",
            "deserts\n",
            "salad\n",
            "chicken fry\n"
          ]
        }
      ]
    },
    {
      "cell_type": "code",
      "source": [
        "item_look = input(\"Enter your query: \")\n",
        "\n",
        "if item_look in set_1:\n",
        "  print(\"Desired item is there.\")\n",
        "else:\n",
        "  print(\"Desired item is not there.\")"
      ],
      "metadata": {
        "colab": {
          "base_uri": "https://localhost:8080/"
        },
        "id": "Bmv2K9suj1Uk",
        "outputId": "7cd6ce72-c116-4251-b28a-40a3f48ebd8b"
      },
      "execution_count": 33,
      "outputs": [
        {
          "output_type": "stream",
          "name": "stdout",
          "text": [
            "Enter your query: RICE\n",
            "Desired item is not there.\n"
          ]
        }
      ]
    },
    {
      "cell_type": "code",
      "source": [
        "set_1.add(\"fruit salad\")\n",
        "set_1.remove(\"fruit_salad\")\n",
        "print(set_1)"
      ],
      "metadata": {
        "colab": {
          "base_uri": "https://localhost:8080/"
        },
        "id": "7wknjmjTk4V-",
        "outputId": "d9c0a8c6-1d77-4f1c-9d51-78e4d7b882c8"
      },
      "execution_count": 37,
      "outputs": [
        {
          "output_type": "stream",
          "name": "stdout",
          "text": [
            "{'mashed potato', 'fruit salad', 'rice', 'sweet items', 'deserts', 'salad', 'chicken fry'}\n"
          ]
        }
      ]
    },
    {
      "cell_type": "code",
      "source": [
        "set_2 = {\"Hard Drinks\", \"starters\", \"chips\", \"chocolates\"}\n",
        "set_1.update(set_2)\n",
        "print(set_1)"
      ],
      "metadata": {
        "colab": {
          "base_uri": "https://localhost:8080/"
        },
        "id": "H2dLT6lplMqM",
        "outputId": "a8c11138-eda5-493a-e4c4-b41416a67a19"
      },
      "execution_count": 38,
      "outputs": [
        {
          "output_type": "stream",
          "name": "stdout",
          "text": [
            "{'Hard Drinks', 'sweet items', 'salad', 'starters', 'chips', 'chicken fry', 'mashed potato', 'rice', 'deserts', 'fruit salad', 'chocolates'}\n"
          ]
        }
      ]
    },
    {
      "cell_type": "code",
      "source": [
        "#Finding the common grade between two grades\n",
        "grade_1 = {24, 26, 28, 35, 32, 34, 29}\n",
        "grade_2 = {25, 26, 21, 27, 30, 35, 37}\n",
        "grade_1.intersection_update(grade_2)\n",
        "print(grade_1)"
      ],
      "metadata": {
        "colab": {
          "base_uri": "https://localhost:8080/"
        },
        "id": "5Ih2kaa_mU22",
        "outputId": "99fe0847-f612-4083-94b3-6b2dfcce45a7"
      },
      "execution_count": 45,
      "outputs": [
        {
          "output_type": "stream",
          "name": "stdout",
          "text": [
            "{26, 35}\n"
          ]
        }
      ]
    },
    {
      "cell_type": "code",
      "source": [
        "common_grade = grade_1.intersection(grade_2)\n",
        "print(common_grade)"
      ],
      "metadata": {
        "colab": {
          "base_uri": "https://localhost:8080/"
        },
        "id": "GZphCjkbnmSW",
        "outputId": "83803839-85e3-422a-8a87-fa1d298584aa"
      },
      "execution_count": 46,
      "outputs": [
        {
          "output_type": "stream",
          "name": "stdout",
          "text": [
            "{26, 35}\n"
          ]
        }
      ]
    },
    {
      "cell_type": "code",
      "source": [
        "uncommon_grade = grade_1.symmetric_difference(grade_2)\n",
        "print(uncommon_grade) "
      ],
      "metadata": {
        "colab": {
          "base_uri": "https://localhost:8080/"
        },
        "id": "D5B-VwthoYXU",
        "outputId": "7f283f8a-307e-4386-b211-71010b471192"
      },
      "execution_count": 47,
      "outputs": [
        {
          "output_type": "stream",
          "name": "stdout",
          "text": [
            "{37, 21, 25, 27, 30}\n"
          ]
        }
      ]
    },
    {
      "cell_type": "code",
      "source": [
        "# Nested Dictionaries \n",
        "\n",
        "total_dict = {\n",
        "  \"dict_1\" : {\n",
        "    \"name\" : \"Hasan\",\n",
        "    \"cgpa\" : 3.15,\n",
        "    \"year\" : 2018,\n",
        "    \"type\" : \"STEM\",\n",
        "    \"quality_publication\" : 2,\n",
        "    \"programming_knowledge\": 5,\n",
        "    \"professional_cert\": 2,\n",
        "    \"entrance_exam\": 1\n",
        "},\n",
        "  \"dict_2\" : {\n",
        "      \"name\": \"Yilun\",\n",
        "      \"cgpa\": 3.94,\n",
        "      \"year\": 2018,\n",
        "      \"type\": \"STEM\",\n",
        "      \"quality_publication\": 23,\n",
        "      \"programming_Knowledge\": 11,\n",
        "      \"professional_cert\": 7,\n",
        "      \"entrance_exam\": 5\n",
        "  }\n",
        "}\n",
        "print(total_dict)"
      ],
      "metadata": {
        "colab": {
          "base_uri": "https://localhost:8080/"
        },
        "id": "aX8fqF-Fn840",
        "outputId": "600ad391-b734-4c5a-b865-a6d884403285"
      },
      "execution_count": 48,
      "outputs": [
        {
          "output_type": "stream",
          "name": "stdout",
          "text": [
            "{'dict_1': {'name': 'Hasan', 'cgpa': 3.15, 'year': 2018, 'type': 'STEM', 'quality_publication': 2, 'programming_knowledge': 5, 'professional_cert': 2, 'entrance_exam': 1}, 'dict_2': {'name': 'Yilun', 'cgpa': 3.94, 'year': 2018, 'type': 'STEM', 'quality_publication': 23, 'programming_Knowledge': 11, 'professional_cert': 7, 'entrance_exam': 5}}\n"
          ]
        }
      ]
    },
    {
      "cell_type": "code",
      "source": [
        "dict_1 = {\n",
        "    \"name\" : \"Hasan\",\n",
        "    \"cgpa\" : 3.15,\n",
        "    \"year\" : 2018,\n",
        "    \"type\" : \"STEM\",\n",
        "    \"quality_publication\" : 2,\n",
        "    \"programming_knowledge\": 5,\n",
        "    \"professional_cert\": 2,\n",
        "    \"entrance_exam\": 1\n",
        "}\n",
        "t = dict_1.get(\"cgpa\")\n",
        "print(t)"
      ],
      "metadata": {
        "colab": {
          "base_uri": "https://localhost:8080/"
        },
        "id": "Z013mS-urwJF",
        "outputId": "b8ac18eb-a42b-4e39-8b5d-388a6a69ba36"
      },
      "execution_count": 50,
      "outputs": [
        {
          "output_type": "stream",
          "name": "stdout",
          "text": [
            "3.15\n"
          ]
        }
      ]
    },
    {
      "cell_type": "code",
      "source": [
        "t_1 = dict_1.keys()\n",
        "print(t_1)"
      ],
      "metadata": {
        "colab": {
          "base_uri": "https://localhost:8080/"
        },
        "id": "EwTLpezbsRMs",
        "outputId": "c6582d45-7cea-4788-d8fa-76544ba59d9e"
      },
      "execution_count": 51,
      "outputs": [
        {
          "output_type": "stream",
          "name": "stdout",
          "text": [
            "dict_keys(['name', 'cgpa', 'year', 'type', 'quality_publication', 'programming_knowledge', 'professional_cert', 'entrance_exam'])\n"
          ]
        }
      ]
    },
    {
      "cell_type": "code",
      "source": [
        "dict_1[\"experience\"] = 3\n",
        "print(dict_1)"
      ],
      "metadata": {
        "colab": {
          "base_uri": "https://localhost:8080/"
        },
        "id": "yGeG1LZjsgBz",
        "outputId": "2b861699-f417-418d-c5ba-8dc36ca64948"
      },
      "execution_count": 52,
      "outputs": [
        {
          "output_type": "stream",
          "name": "stdout",
          "text": [
            "{'name': 'Hasan', 'cgpa': 3.15, 'year': 2018, 'type': 'STEM', 'quality_publication': 2, 'programming_knowledge': 5, 'professional_cert': 2, 'entrance_exam': 1, 'experience': 3}\n"
          ]
        }
      ]
    },
    {
      "cell_type": "code",
      "source": [
        "t_3 = dict_1.values()\n",
        "print(t_3)"
      ],
      "metadata": {
        "colab": {
          "base_uri": "https://localhost:8080/"
        },
        "id": "ZwlMHZ2zs90k",
        "outputId": "815ad9c2-af93-4ab2-81e9-711e76976981"
      },
      "execution_count": 53,
      "outputs": [
        {
          "output_type": "stream",
          "name": "stdout",
          "text": [
            "dict_values(['Hasan', 3.15, 2018, 'STEM', 2, 5, 2, 1, 3])\n"
          ]
        }
      ]
    },
    {
      "cell_type": "code",
      "source": [
        "dict_1[\"cgpa\"] = 3.75\n",
        "print(dict_1)"
      ],
      "metadata": {
        "colab": {
          "base_uri": "https://localhost:8080/"
        },
        "id": "3ZYz3mi7tZyS",
        "outputId": "b9e50fde-f09e-400a-8c82-d6cc6c1ada10"
      },
      "execution_count": 54,
      "outputs": [
        {
          "output_type": "stream",
          "name": "stdout",
          "text": [
            "{'name': 'Hasan', 'cgpa': 3.75, 'year': 2018, 'type': 'STEM', 'quality_publication': 2, 'programming_knowledge': 5, 'professional_cert': 2, 'entrance_exam': 1, 'experience': 3}\n"
          ]
        }
      ]
    },
    {
      "cell_type": "code",
      "source": [
        "t_4 = dict_1.items()\n",
        "print(t_4)"
      ],
      "metadata": {
        "colab": {
          "base_uri": "https://localhost:8080/"
        },
        "id": "niuPSCo-tmxG",
        "outputId": "72c1b652-5157-451a-fa43-49e56bcc377e"
      },
      "execution_count": 55,
      "outputs": [
        {
          "output_type": "stream",
          "name": "stdout",
          "text": [
            "dict_items([('name', 'Hasan'), ('cgpa', 3.75), ('year', 2018), ('type', 'STEM'), ('quality_publication', 2), ('programming_knowledge', 5), ('professional_cert', 2), ('entrance_exam', 1), ('experience', 3)])\n"
          ]
        }
      ]
    },
    {
      "cell_type": "code",
      "source": [
        "f_1 = input(\"Enter a desired condition: \")\n",
        "\n",
        "if f_1 in dict_1:\n",
        "  print(\"Effective condition.\")\n",
        "else:\n",
        "  print(\"Undesirable condition.\")"
      ],
      "metadata": {
        "colab": {
          "base_uri": "https://localhost:8080/"
        },
        "id": "shYo1Ul0t8gX",
        "outputId": "60ae4968-3e94-46dd-9510-745512ec556e"
      },
      "execution_count": 59,
      "outputs": [
        {
          "output_type": "stream",
          "name": "stdout",
          "text": [
            "Enter a desired condition: entrance_exam\n",
            "Effective condition.\n"
          ]
        }
      ]
    },
    {
      "cell_type": "code",
      "source": [
        "for x in dict_1:\n",
        "  print(x)"
      ],
      "metadata": {
        "colab": {
          "base_uri": "https://localhost:8080/"
        },
        "id": "opVeAM2cvEjB",
        "outputId": "3042ed5d-7160-42bd-ccd0-b9985b8b0b08"
      },
      "execution_count": 60,
      "outputs": [
        {
          "output_type": "stream",
          "name": "stdout",
          "text": [
            "name\n",
            "cgpa\n",
            "year\n",
            "type\n",
            "quality_publication\n",
            "programming_knowledge\n",
            "professional_cert\n",
            "entrance_exam\n",
            "experience\n"
          ]
        }
      ]
    },
    {
      "cell_type": "code",
      "source": [
        "for i in dict_1.values():\n",
        "  print(i)"
      ],
      "metadata": {
        "colab": {
          "base_uri": "https://localhost:8080/"
        },
        "id": "-2cVaR9wvymB",
        "outputId": "5d7ca96f-3ff1-4f19-e373-e0ff03d6abfa"
      },
      "execution_count": 61,
      "outputs": [
        {
          "output_type": "stream",
          "name": "stdout",
          "text": [
            "Hasan\n",
            "3.75\n",
            "2018\n",
            "STEM\n",
            "2\n",
            "5\n",
            "2\n",
            "1\n",
            "3\n"
          ]
        }
      ]
    },
    {
      "cell_type": "code",
      "source": [
        "for m, n in dict_1.items():\n",
        "  print(m, n)"
      ],
      "metadata": {
        "colab": {
          "base_uri": "https://localhost:8080/"
        },
        "id": "_ynk1TK1wKgq",
        "outputId": "efe8c70c-bddb-4209-da2e-d462dc1a2c01"
      },
      "execution_count": 68,
      "outputs": [
        {
          "output_type": "stream",
          "name": "stdout",
          "text": [
            "name Hasan\n",
            "cgpa 3.75\n",
            "year 2018\n",
            "type STEM\n",
            "quality_publication 2\n",
            "programming_knowledge 5\n",
            "professional_cert 2\n",
            "entrance_exam 1\n",
            "experience 3\n"
          ]
        }
      ]
    }
  ]
}