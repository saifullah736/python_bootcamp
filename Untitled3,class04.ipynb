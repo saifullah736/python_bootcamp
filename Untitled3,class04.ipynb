{
  "nbformat": 4,
  "nbformat_minor": 0,
  "metadata": {
    "colab": {
      "provenance": []
    },
    "kernelspec": {
      "name": "python3",
      "display_name": "Python 3"
    },
    "language_info": {
      "name": "python"
    }
  },
  "cells": [
    {
      "cell_type": "code",
      "execution_count": null,
      "metadata": {
        "colab": {
          "base_uri": "https://localhost:8080/"
        },
        "id": "iAH2pbg7QA3H",
        "outputId": "ed613c97-cadc-4d5b-95e0-8b5eb32ea43c"
      },
      "outputs": [
        {
          "output_type": "stream",
          "name": "stdout",
          "text": [
            "Enter any integer: 2\n",
            "Enter any integer: 6\n",
            "2\n",
            "3\n",
            "4\n",
            "5\n"
          ]
        }
      ],
      "source": [
        "# Loop While or for \n",
        "i = int(input(\"Enter any integer: \"))\n",
        "n = int(input(\"Enter any integer: \"))\n",
        "while i < n:\n",
        "  print(i)\n",
        "  i += 1"
      ]
    },
    {
      "cell_type": "code",
      "source": [
        "#Print with a break\n",
        "x = int(input(\"Enter any integer: \"))\n",
        "y = int(input(\"Enter any integer: \"))\n",
        "while x > y: \n",
        "  print(y)\n",
        "  if y == 8:\n",
        "    break\n",
        "  y += 1"
      ],
      "metadata": {
        "colab": {
          "base_uri": "https://localhost:8080/"
        },
        "id": "wS_uJ6ntRbnB",
        "outputId": "fa40460c-f1e9-4d9a-b4ed-7000071d322d"
      },
      "execution_count": null,
      "outputs": [
        {
          "output_type": "stream",
          "name": "stdout",
          "text": [
            "Enter any integer: 12\n",
            "Enter any integer: 1\n",
            "1\n",
            "2\n",
            "3\n",
            "4\n",
            "5\n",
            "6\n",
            "7\n",
            "8\n"
          ]
        }
      ]
    },
    {
      "cell_type": "code",
      "source": [
        "#Print with a continue\n",
        "x = int(input(\"Enter any integer: \"))\n",
        "y = int(input(\"Enter any integer: \"))\n",
        "while x > y: \n",
        "  y += 1\n",
        "  if y == 8:\n",
        "    continue\n",
        "  print(y)"
      ],
      "metadata": {
        "colab": {
          "base_uri": "https://localhost:8080/"
        },
        "id": "eI-iwYEaSx3_",
        "outputId": "9173285d-1122-4950-f05a-76ede7aff19b"
      },
      "execution_count": null,
      "outputs": [
        {
          "output_type": "stream",
          "name": "stdout",
          "text": [
            "Enter any integer: 12\n",
            "Enter any integer: 1\n",
            "2\n",
            "3\n",
            "4\n",
            "5\n",
            "6\n",
            "7\n",
            "9\n",
            "10\n",
            "11\n",
            "12\n"
          ]
        }
      ]
    },
    {
      "cell_type": "code",
      "source": [
        "foods = [\"french fries\", \"chicken fry\", \"sauteed roast\", \"mixed veg\"]\n",
        "for k in foods:\n",
        "  print(k)\n",
        "  if k == \"sauteed roast\":\n",
        "    break"
      ],
      "metadata": {
        "colab": {
          "base_uri": "https://localhost:8080/"
        },
        "id": "gQCrK-2uVVXF",
        "outputId": "13a31baa-e1bc-4bd6-bf38-124aaaacc81d"
      },
      "execution_count": null,
      "outputs": [
        {
          "output_type": "stream",
          "name": "stdout",
          "text": [
            "french fries\n",
            "chicken fry\n",
            "sauteed roast\n"
          ]
        }
      ]
    },
    {
      "cell_type": "code",
      "source": [
        "for k in foods:\n",
        "  if k == \"sauteed roast\":\n",
        "    continue\n",
        "  print(k)"
      ],
      "metadata": {
        "colab": {
          "base_uri": "https://localhost:8080/"
        },
        "id": "S0ChsDOAVdL2",
        "outputId": "33c31f88-2720-40c3-b322-a31cad44a037"
      },
      "execution_count": null,
      "outputs": [
        {
          "output_type": "stream",
          "name": "stdout",
          "text": [
            "french fries\n",
            "chicken fry\n",
            "mixed veg\n"
          ]
        }
      ]
    },
    {
      "cell_type": "code",
      "source": [
        "#Nested Loop\n",
        "tastes = [\"Mild\", \"Salty\", \"Spicy\"]\n",
        "\n",
        "for m in tastes:\n",
        "  for n in foods:\n",
        "    print(m, n)"
      ],
      "metadata": {
        "colab": {
          "base_uri": "https://localhost:8080/"
        },
        "id": "snWx0A04XWlg",
        "outputId": "ca65f219-f053-4ab2-895a-fe2283cbf3fc"
      },
      "execution_count": null,
      "outputs": [
        {
          "output_type": "stream",
          "name": "stdout",
          "text": [
            "Mild french fries\n",
            "Mild chicken fry\n",
            "Mild sauteed roast\n",
            "Mild mixed veg\n",
            "Salty french fries\n",
            "Salty chicken fry\n",
            "Salty sauteed roast\n",
            "Salty mixed veg\n",
            "Spicy french fries\n",
            "Spicy chicken fry\n",
            "Spicy sauteed roast\n",
            "Spicy mixed veg\n"
          ]
        }
      ]
    },
    {
      "cell_type": "code",
      "source": [
        "#Function\n",
        "\n",
        "def my_func(first_name):\n",
        "  print(first_name + \" Islam\")\n",
        "\n",
        "my_func(input(\"Enter your first Name: \"))"
      ],
      "metadata": {
        "colab": {
          "base_uri": "https://localhost:8080/"
        },
        "id": "-8PxP4R3Y0P9",
        "outputId": "a05b93cb-e00e-42e2-d1e6-7164f86fc751"
      },
      "execution_count": null,
      "outputs": [
        {
          "output_type": "stream",
          "name": "stdout",
          "text": [
            "Enter your first Name: Arif\n",
            "Arif Islam\n"
          ]
        }
      ]
    },
    {
      "cell_type": "code",
      "source": [
        "def func_1(f_name, l_name):\n",
        "  print(f_name + \" \" + l_name)\n",
        "\n",
        "func_1(input(\"First Name: \"), input('Last Name: ')) "
      ],
      "metadata": {
        "colab": {
          "base_uri": "https://localhost:8080/"
        },
        "id": "AGAc8FttaLBT",
        "outputId": "77fd4f9d-02bc-4fa2-ef45-52f28aa9eb4a"
      },
      "execution_count": null,
      "outputs": [
        {
          "output_type": "stream",
          "name": "stdout",
          "text": [
            "First Name: Faisal\n",
            "Last Name: karim\n",
            "Faisal karim\n"
          ]
        }
      ]
    },
    {
      "cell_type": "code",
      "source": [
        "#Coding through Lambda \n",
        "m = lambda x: x + 5\n",
        "print(m(3))"
      ],
      "metadata": {
        "colab": {
          "base_uri": "https://localhost:8080/"
        },
        "id": "X6GY-7eJdHeZ",
        "outputId": "ee4addd1-cf7a-45f8-b8f1-a7389d7b9ede"
      },
      "execution_count": null,
      "outputs": [
        {
          "output_type": "stream",
          "name": "stdout",
          "text": [
            "8\n"
          ]
        }
      ]
    },
    {
      "cell_type": "code",
      "source": [
        "def my_func(n, m):\n",
        "  return lambda a: a - n + m\n",
        "\n",
        "my_double = my_func(5, 7)\n",
        "print(my_double(41))"
      ],
      "metadata": {
        "colab": {
          "base_uri": "https://localhost:8080/"
        },
        "id": "PN1_vP8_f8Cu",
        "outputId": "3b764d1d-dbe6-4bbd-dc2a-1ad7b0d6f193"
      },
      "execution_count": null,
      "outputs": [
        {
          "output_type": "stream",
          "name": "stdout",
          "text": [
            "43\n"
          ]
        }
      ]
    },
    {
      "cell_type": "code",
      "source": [
        "#class \n",
        "class my_class():\n",
        "  x = 6\n",
        "  y = 11\n",
        "\n",
        "p_1 = my_class()\n",
        "print(p_1.x * y)"
      ],
      "metadata": {
        "colab": {
          "base_uri": "https://localhost:8080/"
        },
        "id": "Q_BXw9Gyfk6y",
        "outputId": "b5c27294-3aad-4b30-e86d-37625c72379a"
      },
      "execution_count": null,
      "outputs": [
        {
          "output_type": "stream",
          "name": "stdout",
          "text": [
            "72\n"
          ]
        }
      ]
    },
    {
      "cell_type": "code",
      "source": [
        "class Human: \n",
        "  def __init__(self, name, age):\n",
        "    self.name = name\n",
        "    self.age = age\n",
        "\n",
        "p_1 = Human(\"Sami\", 32)\n",
        "\n",
        "print(p_1.name)\n",
        "print(p_1.age)"
      ],
      "metadata": {
        "colab": {
          "base_uri": "https://localhost:8080/"
        },
        "id": "W-CYRK_ak6IW",
        "outputId": "4078d58b-c8fe-4997-abaa-384c0ecbe0d9"
      },
      "execution_count": 45,
      "outputs": [
        {
          "output_type": "stream",
          "name": "stdout",
          "text": [
            "Sami\n",
            "32\n"
          ]
        }
      ]
    },
    {
      "cell_type": "code",
      "source": [
        "#Looping through class \n",
        "n = int(input(\"Please enter the boundary number: \"))\n",
        "\n",
        "class my_num:\n",
        "  def __iter__(self):\n",
        "    self.m = 0\n",
        "    return self\n",
        "  def __next__(self):\n",
        "    if self.m <= n:\n",
        "      x = self.m\n",
        "      self.m += 2\n",
        "      return x\n",
        "    else: \n",
        "      raise StopIteration\n",
        "\n",
        "my_class = my_num()\n",
        "my_iter = iter(my_class)\n",
        "\n",
        "for x in my_iter:\n",
        "  print(x)"
      ],
      "metadata": {
        "colab": {
          "base_uri": "https://localhost:8080/"
        },
        "id": "Zw3Wb0Ivm6wM",
        "outputId": "b0d1b294-88a3-4fe2-ad09-4b3252333fb2"
      },
      "execution_count": 48,
      "outputs": [
        {
          "output_type": "stream",
          "name": "stdout",
          "text": [
            "Please enter the boundary number: 44\n",
            "0\n",
            "2\n",
            "4\n",
            "6\n",
            "8\n",
            "10\n",
            "12\n",
            "14\n",
            "16\n",
            "18\n",
            "20\n",
            "22\n",
            "24\n",
            "26\n",
            "28\n",
            "30\n",
            "32\n",
            "34\n",
            "36\n",
            "38\n",
            "40\n",
            "42\n",
            "44\n"
          ]
        }
      ]
    },
    {
      "cell_type": "code",
      "source": [
        "class Vehicle: \n",
        "  def __init__(self, brand, model):\n",
        "    self.brand = brand\n",
        "    self.model = model\n",
        "  \n",
        "class car(Vehicle):\n",
        "  def move(self):\n",
        "    print(\"Drive\")\n",
        "\n",
        "class boat(Vehicle):\n",
        "  def move(self):\n",
        "    print(\"Sail\")\n",
        "  \n",
        "class plane(Vehicle):\n",
        "  def move(self):\n",
        "    print(\"Fly\")\n",
        "\n",
        "car_1 = car(\"Toyota\", \"Prius\")\n",
        "boat_1 = boat(\"Pentor\", \"Ebiza\")\n",
        "plane_1 = plane(\"Boeing\", \"777\")\n",
        "\n",
        "for x in (car_1, boat_1, plane_1):\n",
        "  print(x.brand)\n",
        "  print(x.model)\n",
        "  x.move()"
      ],
      "metadata": {
        "colab": {
          "base_uri": "https://localhost:8080/"
        },
        "id": "tCx6bTFPtklm",
        "outputId": "cecde877-7cf6-40d6-f4c6-859fa25b0616"
      },
      "execution_count": 50,
      "outputs": [
        {
          "output_type": "stream",
          "name": "stdout",
          "text": [
            "Toyota\n",
            "Prius\n",
            "Drive\n",
            "Pentor\n",
            "Ebiza\n",
            "Sail\n",
            "Boeing\n",
            "777\n",
            "Fly\n"
          ]
        }
      ]
    },
    {
      "cell_type": "code",
      "source": [
        "\"\"\"\n",
        "Write a program to find those numbers which are divisible by 7 and multiples of 5, between any given numbers \n",
        "\"\"\"\n",
        "m = int(input(\"Enter your number: \"))\n",
        "n = int(input(\"Enter your number: \"))\n",
        "array_1 = []\n",
        "\n",
        "for x in range(m, n):\n",
        "  if (x % 7 == 0) and (x % 5 == 0):\n",
        "    array_1.append(str(x))\n",
        "print(\",\".join(array_1))"
      ],
      "metadata": {
        "colab": {
          "base_uri": "https://localhost:8080/"
        },
        "id": "qsxMNYYCyGNc",
        "outputId": "72123ab1-125f-4133-934c-6ea30e3b15d2"
      },
      "execution_count": 51,
      "outputs": [
        {
          "output_type": "stream",
          "name": "stdout",
          "text": [
            "Enter your number: 2100\n",
            "Enter ypur number: 4200\n",
            "2100,2135,2170,2205,2240,2275,2310,2345,2380,2415,2450,2485,2520,2555,2590,2625,2660,2695,2730,2765,2800,2835,2870,2905,2940,2975,3010,3045,3080,3115,3150,3185,3220,3255,3290,3325,3360,3395,3430,3465,3500,3535,3570,3605,3640,3675,3710,3745,3780,3815,3850,3885,3920,3955,3990,4025,4060,4095,4130,4165\n"
          ]
        }
      ]
    },
    {
      "cell_type": "code",
      "source": [
        "\"\"\"\n",
        "Write a Python program to construct the following pattern using a nested for loop\n",
        "*\n",
        "**\n",
        "***\n",
        "****\n",
        "***\n",
        "**\n",
        "*\n",
        "\"\"\"\n",
        "n = int(input(\"Enter a positive Integer: \"))\n",
        "\n",
        "for i in range(n):\n",
        "  for j in range(i):\n",
        "    print(\"* \", end = \" \")\n",
        "  print(\" \")\n",
        "\n",
        "for i in range(n, 0, -1):\n",
        "  for j in range(i):\n",
        "    print(\"* \", end = \" \")\n",
        "  print(\" \")"
      ],
      "metadata": {
        "colab": {
          "base_uri": "https://localhost:8080/"
        },
        "id": "ut4wskwA0SiV",
        "outputId": "133906b5-a5b0-4d31-c4aa-3dd20439493c"
      },
      "execution_count": 52,
      "outputs": [
        {
          "output_type": "stream",
          "name": "stdout",
          "text": [
            "Enter a positive Integer: 4\n",
            " \n",
            "*   \n",
            "*  *   \n",
            "*  *  *   \n",
            "*  *  *  *   \n",
            "*  *  *   \n",
            "*  *   \n",
            "*   \n"
          ]
        }
      ]
    },
    {
      "cell_type": "code",
      "source": [
        "def cgpa_calc():\n",
        "  total_score = 0\n",
        "  earned_grade = 0\n",
        "\n",
        "  num_courses = int(input(\"Please enter the number of courses you have taken: \"))\n",
        "  print(\"_______________________________________________\")\n",
        "  for x in range(num_courses):\n",
        "    course_1 = input(\"Enter the name of course: \")\n",
        "    unit_1 = int(input(\"Enter the credit units of course: \"))\n",
        "    score_1 = int(input(\"Enter the score: \"))\n",
        "\n",
        "    total_score += unit_1 * 4\n",
        "\n",
        "    if (score_1 >= 93):\n",
        "      grade = 4\n",
        "    elif (score_1 < 93 and score_1 >= 90):\n",
        "      grade = 3.75\n",
        "    elif (score_1 < 90 and score_1 >= 87):\n",
        "      grade = 3.33\n",
        "    elif (score_1 < 87 and score_1 >= 83):\n",
        "      grade = 3.00\n",
        "    elif (score_1 < 83 and score_1 >= 80):\n",
        "      grade = 2.7\n",
        "    else:\n",
        "      grade = 0\n",
        "\n",
        "    earned_grade += unit_1 * grade\n",
        "\n",
        "    x_gpa = earned_grade / total_score\n",
        "\n",
        "  cgpa = float(x_gpa * 4)\n",
        "  print(\"Your CGPA is \" + str(cgpa))\n",
        "\n",
        "cgpa_calc()"
      ],
      "metadata": {
        "colab": {
          "base_uri": "https://localhost:8080/"
        },
        "id": "KiWRCqSH1sxK",
        "outputId": "3a603755-5955-4328-88ef-1dd7549b677e"
      },
      "execution_count": 60,
      "outputs": [
        {
          "output_type": "stream",
          "name": "stdout",
          "text": [
            "Please enter the number of courses you have taken: 2\n",
            "_______________________________________________\n",
            "Enter the name of course: 143\n",
            "Enter the credit units of course: 3\n",
            "Enter the score: 87\n",
            "Enter the name of course: 165\n",
            "Enter the credit units of course: 3\n",
            "Enter the score: 91\n",
            "Your CGPA is 3.5400000000000005\n"
          ]
        }
      ]
    }
  ]
}